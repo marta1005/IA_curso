{
 "cells": [
  {
   "cell_type": "markdown",
   "metadata": {},
   "source": [
    "### Datos Anómalos "
   ]
  },
  {
   "cell_type": "markdown",
   "metadata": {},
   "source": [
    "Paso 1: Crear un DataFrame con datos simulados\n",
    "En este ejemplo, simulamos un conjunto de datos con valores atípicos para ilustrar su detección y tratamiento."
   ]
  },
  {
   "cell_type": "code",
   "execution_count": 34,
   "metadata": {},
   "outputs": [
    {
     "name": "stdout",
     "output_type": "stream",
     "text": [
      "DataFrame con valores anómalos:\n",
      "    Valor\n",
      "70    1.0\n",
      "71  100.0\n",
      "72  130.0\n",
      "73  140.0\n",
      "74  150.0\n"
     ]
    }
   ],
   "source": [
    "import pandas as pd\n",
    "import numpy as np\n",
    "import matplotlib.pyplot as plt\n",
    "\n",
    "# Crear un DataFrame de ejemplo con valores anómalos\n",
    "np.random.seed(0)\n",
    "data = {\n",
    "    'Valor': np.append(np.random.normal(60, 10, 70), [1, 100, 130, 140, 150])  # Incluye 3 outliers\n",
    "}\n",
    "\n",
    "df = pd.DataFrame(data)\n",
    "\n",
    "print(\"DataFrame con valores anómalos:\")\n",
    "print(df.tail())  # Muestra los últimos registros donde están los outliers\n"
   ]
  },
  {
   "cell_type": "markdown",
   "metadata": {},
   "source": [
    "#### Representación gráfica"
   ]
  },
  {
   "cell_type": "code",
   "execution_count": 35,
   "metadata": {},
   "outputs": [
    {
     "data": {
      "image/png": "[encoded data removed]",
      "text/plain": [
       "<Figure size 600x400 with 1 Axes>"
      ]
     },
     "metadata": {},
     "output_type": "display_data"
    }
   ],
   "source": [
    "plt.figure(figsize=(6, 4))\n",
    "plt.boxplot(df['Valor'], vert=False, patch_artist=True, boxprops=dict(facecolor='lightblue', color='blue'))\n",
    "plt.title('Boxplot original de los valores con outliers')\n",
    "plt.show()"
   ]
  },
  {
   "cell_type": "markdown",
   "metadata": {},
   "source": [
    "* Evaluamos los datos anómalos como aquellos a una distancia de la media mayor que 3 veces la desviación estandar."
   ]
  },
  {
   "cell_type": "code",
   "execution_count": 36,
   "metadata": {},
   "outputs": [
    {
     "data": {
      "text/html": [
       "<div>\n",
       "<style scoped>\n",
       "    .dataframe tbody tr th:only-of-type {\n",
       "        vertical-align: middle;\n",
       "    }\n",
       "\n",
       "    .dataframe tbody tr th {\n",
       "        vertical-align: top;\n",
       "    }\n",
       "\n",
       "    .dataframe thead th {\n",
       "        text-align: right;\n",
       "    }\n",
       "</style>\n",
       "<table border=\"1\" class=\"dataframe\">\n",
       "  <thead>\n",
       "    <tr style=\"text-align: right;\">\n",
       "      <th></th>\n",
       "      <th>Valor</th>\n",
       "    </tr>\n",
       "  </thead>\n",
       "  <tbody>\n",
       "    <tr>\n",
       "      <th>72</th>\n",
       "      <td>130.0</td>\n",
       "    </tr>\n",
       "    <tr>\n",
       "      <th>73</th>\n",
       "      <td>140.0</td>\n",
       "    </tr>\n",
       "    <tr>\n",
       "      <th>74</th>\n",
       "      <td>150.0</td>\n",
       "    </tr>\n",
       "  </tbody>\n",
       "</table>\n",
       "</div>"
      ],
      "text/plain": [
       "    Valor\n",
       "72  130.0\n",
       "73  140.0\n",
       "74  150.0"
      ]
     },
     "execution_count": 36,
     "metadata": {},
     "output_type": "execute_result"
    }
   ],
   "source": [
    "mean = df['Valor'].mean()\n",
    "std_dev = df['Valor'].std()\n",
    "threshold = 3\n",
    "anomalies = df[(df['Valor'] > mean + threshold * std_dev) | (df['Valor'] < mean - threshold * std_dev)]\n",
    "anomalies\n"
   ]
  },
  {
   "cell_type": "markdown",
   "metadata": {},
   "source": [
    "* Evaluamos los datos anómalos como aquellos a una distancia del Rango Intercuartílico de 1.5 veces el Rango Intercuartílico."
   ]
  },
  {
   "cell_type": "code",
   "execution_count": 37,
   "metadata": {},
   "outputs": [],
   "source": [
    "Q1 = df['Valor'].quantile(0.25)\n",
    "Q3 = df['Valor'].quantile(0.75)\n",
    "IQR = Q3 - Q1\n",
    "anomalies = df[(df['Valor'] < (Q1 - 1.5 * IQR)) | (df['Valor'] > (Q3 + 1.5 * IQR))]\n",
    "anomalies_severe = df[(df['Valor'] < (Q1 - 3 * IQR)) | (df['Valor'] > (Q3 + 3 * IQR))]"
   ]
  },
  {
   "cell_type": "code",
   "execution_count": 38,
   "metadata": {},
   "outputs": [
    {
     "name": "stdout",
     "output_type": "stream",
     "text": [
      "124.66595794080133\n",
      "52.92687265908803 67.69264040489452\n",
      "89.84129202360424\n",
      "111.98994364231397\n"
     ]
    }
   ],
   "source": [
    "print(mean + threshold * std_dev)\n",
    "print(Q1,Q3)\n",
    "print(Q3 + 1.5 * IQR)\n",
    "print(Q3 + 3 * IQR)"
   ]
  },
  {
   "cell_type": "code",
   "execution_count": 39,
   "metadata": {},
   "outputs": [
    {
     "data": {
      "text/html": [
       "<div>\n",
       "<style scoped>\n",
       "    .dataframe tbody tr th:only-of-type {\n",
       "        vertical-align: middle;\n",
       "    }\n",
       "\n",
       "    .dataframe tbody tr th {\n",
       "        vertical-align: top;\n",
       "    }\n",
       "\n",
       "    .dataframe thead th {\n",
       "        text-align: right;\n",
       "    }\n",
       "</style>\n",
       "<table border=\"1\" class=\"dataframe\">\n",
       "  <thead>\n",
       "    <tr style=\"text-align: right;\">\n",
       "      <th></th>\n",
       "      <th>Valor</th>\n",
       "    </tr>\n",
       "  </thead>\n",
       "  <tbody>\n",
       "    <tr>\n",
       "      <th>70</th>\n",
       "      <td>1.0</td>\n",
       "    </tr>\n",
       "    <tr>\n",
       "      <th>71</th>\n",
       "      <td>100.0</td>\n",
       "    </tr>\n",
       "    <tr>\n",
       "      <th>72</th>\n",
       "      <td>130.0</td>\n",
       "    </tr>\n",
       "    <tr>\n",
       "      <th>73</th>\n",
       "      <td>140.0</td>\n",
       "    </tr>\n",
       "    <tr>\n",
       "      <th>74</th>\n",
       "      <td>150.0</td>\n",
       "    </tr>\n",
       "  </tbody>\n",
       "</table>\n",
       "</div>"
      ],
      "text/plain": [
       "    Valor\n",
       "70    1.0\n",
       "71  100.0\n",
       "72  130.0\n",
       "73  140.0\n",
       "74  150.0"
      ]
     },
     "execution_count": 39,
     "metadata": {},
     "output_type": "execute_result"
    }
   ],
   "source": [
    "anomalies"
   ]
  },
  {
   "cell_type": "code",
   "execution_count": 40,
   "metadata": {},
   "outputs": [
    {
     "data": {
      "text/html": [
       "<div>\n",
       "<style scoped>\n",
       "    .dataframe tbody tr th:only-of-type {\n",
       "        vertical-align: middle;\n",
       "    }\n",
       "\n",
       "    .dataframe tbody tr th {\n",
       "        vertical-align: top;\n",
       "    }\n",
       "\n",
       "    .dataframe thead th {\n",
       "        text-align: right;\n",
       "    }\n",
       "</style>\n",
       "<table border=\"1\" class=\"dataframe\">\n",
       "  <thead>\n",
       "    <tr style=\"text-align: right;\">\n",
       "      <th></th>\n",
       "      <th>Valor</th>\n",
       "    </tr>\n",
       "  </thead>\n",
       "  <tbody>\n",
       "    <tr>\n",
       "      <th>70</th>\n",
       "      <td>1.0</td>\n",
       "    </tr>\n",
       "    <tr>\n",
       "      <th>72</th>\n",
       "      <td>130.0</td>\n",
       "    </tr>\n",
       "    <tr>\n",
       "      <th>73</th>\n",
       "      <td>140.0</td>\n",
       "    </tr>\n",
       "    <tr>\n",
       "      <th>74</th>\n",
       "      <td>150.0</td>\n",
       "    </tr>\n",
       "  </tbody>\n",
       "</table>\n",
       "</div>"
      ],
      "text/plain": [
       "    Valor\n",
       "70    1.0\n",
       "72  130.0\n",
       "73  140.0\n",
       "74  150.0"
      ]
     },
     "execution_count": 40,
     "metadata": {},
     "output_type": "execute_result"
    }
   ],
   "source": [
    "anomalies_severe"
   ]
  },
  {
   "cell_type": "markdown",
   "metadata": {},
   "source": [
    "#### Detección de Valores Anómalos: Métodos Basados en Modelos.\n",
    "\n",
    "\n",
    "El parámetro `contamination=0.01` indica que el 1% de los datos orginales son anómalos."
   ]
  },
  {
   "cell_type": "code",
   "execution_count": 39,
   "metadata": {},
   "outputs": [
    {
     "name": "stderr",
     "output_type": "stream",
     "text": [
      "c:\\Users\\javie\\anaconda3\\lib\\site-packages\\sklearn\\base.py:450: UserWarning: X does not have valid feature names, but IsolationForest was fitted with feature names\n",
      "  warnings.warn(\n"
     ]
    },
    {
     "data": {
      "text/html": [
       "<div>\n",
       "<style scoped>\n",
       "    .dataframe tbody tr th:only-of-type {\n",
       "        vertical-align: middle;\n",
       "    }\n",
       "\n",
       "    .dataframe tbody tr th {\n",
       "        vertical-align: top;\n",
       "    }\n",
       "\n",
       "    .dataframe thead th {\n",
       "        text-align: right;\n",
       "    }\n",
       "</style>\n",
       "<table border=\"1\" class=\"dataframe\">\n",
       "  <thead>\n",
       "    <tr style=\"text-align: right;\">\n",
       "      <th></th>\n",
       "      <th>Valor</th>\n",
       "    </tr>\n",
       "  </thead>\n",
       "  <tbody>\n",
       "    <tr>\n",
       "      <th>100</th>\n",
       "      <td>1.0</td>\n",
       "    </tr>\n",
       "    <tr>\n",
       "      <th>103</th>\n",
       "      <td>140.0</td>\n",
       "    </tr>\n",
       "  </tbody>\n",
       "</table>\n",
       "</div>"
      ],
      "text/plain": [
       "     Valor\n",
       "100    1.0\n",
       "103  140.0"
      ]
     },
     "execution_count": 39,
     "metadata": {},
     "output_type": "execute_result"
    }
   ],
   "source": [
    "from sklearn.ensemble import IsolationForest\n",
    "\n",
    "# Crear el modelo Isolation Forest. \n",
    "iso_forest = IsolationForest(contamination=0.01)\n",
    "\n",
    "# Índice lógico. -1 indica outliers\n",
    "anomalies = iso_forest.fit_predict(df[['Valor']])==-1\n",
    "\n",
    "df[anomalies]"
   ]
  },
  {
   "cell_type": "markdown",
   "metadata": {},
   "source": [
    "Eliminar Anomalías: Puedes eliminar los registros con valores anómalos si se consideran errores o si no son relevantes para el análisis."
   ]
  },
  {
   "cell_type": "code",
   "execution_count": 41,
   "metadata": {},
   "outputs": [
    {
     "name": "stdout",
     "output_type": "stream",
     "text": [
      "\n",
      "DataFrame sin outliers:\n",
      "        Valor\n",
      "0   77.640523\n",
      "1   64.001572\n",
      "2   69.787380\n",
      "3   82.408932\n",
      "4   78.675580\n",
      "..        ...\n",
      "65  55.982191\n",
      "66  43.698017\n",
      "67  64.627823\n",
      "68  50.927016\n",
      "69  60.519454\n",
      "\n",
      "[70 rows x 1 columns]\n"
     ]
    }
   ],
   "source": [
    "# Cálculo del cuartil 1 (Q1), cuartil 3 (Q3) y el rango intercuartílico (IQR)\n",
    "Q1 = df['Valor'].quantile(0.25)\n",
    "Q3 = df['Valor'].quantile(0.75)\n",
    "IQR = Q3 - Q1\n",
    "\n",
    "# Definir los límites inferior y superior para detectar outliers\n",
    "limite_inferior = Q1 - 1.5 * IQR\n",
    "limite_superior = Q3 + 1.5 * IQR\n",
    "# Eliminar los outliers\n",
    "df_sin_outliers = df[(df['Valor'] >= limite_inferior) & (df['Valor'] <= limite_superior)]\n",
    "print(\"\\nDataFrame sin outliers:\")\n",
    "print(df_sin_outliers)\n"
   ]
  },
  {
   "cell_type": "code",
   "execution_count": 42,
   "metadata": {},
   "outputs": [
    {
     "data": {
      "image/png": "[encoded data removed]",
      "text/plain": [
       "<Figure size 600x400 with 1 Axes>"
      ]
     },
     "metadata": {},
     "output_type": "display_data"
    }
   ],
   "source": [
    "plt.figure(figsize=(6, 4))\n",
    "plt.boxplot(df_sin_outliers['Valor'], vert=False, patch_artist=True, boxprops=dict(facecolor='lightblue', color='blue'))\n",
    "plt.title('Boxplot de los valores sin outliers')\n",
    "plt.show()"
   ]
  },
  {
   "cell_type": "code",
   "execution_count": 5,
   "metadata": {},
   "outputs": [
    {
     "name": "stderr",
     "output_type": "stream",
     "text": [
      "c:\\Users\\javie\\anaconda3\\lib\\site-packages\\sklearn\\base.py:450: UserWarning: X does not have valid feature names, but IsolationForest was fitted with feature names\n",
      "  warnings.warn(\n"
     ]
    },
    {
     "data": {
      "image/png": "[encoded data removed]",
      "text/plain": [
       "<Figure size 600x400 with 1 Axes>"
      ]
     },
     "metadata": {},
     "output_type": "display_data"
    }
   ],
   "source": [
    "from sklearn.ensemble import IsolationForest\n",
    "\n",
    "# Crear el modelo Isolation Forest. \n",
    "iso_forest = IsolationForest(contamination=0.01)\n",
    "\n",
    "# Índice lógico. -1 indica outliers\n",
    "anomalies = iso_forest.fit_predict(df[['Valor']])==-1\n",
    "\n",
    "# Crear un DataFrame sin los outliers\n",
    "df_sin_outliers = df[~anomalies]\n",
    "\n",
    "plt.figure(figsize=(6, 4))\n",
    "plt.boxplot(df_sin_outliers['Valor'], vert=False, patch_artist=True, boxprops=dict(facecolor='lightblue', color='blue'))\n",
    "plt.title('Boxplot de los valores sin outliers')\n",
    "plt.show()"
   ]
  },
  {
   "cell_type": "markdown",
   "metadata": {},
   "source": [
    "* Podemos asinar un valor a los *outliers*"
   ]
  },
  {
   "cell_type": "code",
   "execution_count": 47,
   "metadata": {},
   "outputs": [
    {
     "data": {
      "image/png": "[encoded data removed]",
      "text/plain": [
       "<Figure size 600x400 with 1 Axes>"
      ]
     },
     "metadata": {},
     "output_type": "display_data"
    }
   ],
   "source": [
    "# Cálculo del cuartil 1 (Q1), cuartil 3 (Q3) y el rango intercuartílico (IQR)\n",
    "Q1 = df['Valor'].quantile(0.25)\n",
    "Q3 = df['Valor'].quantile(0.75)\n",
    "IQR = Q3 - Q1\n",
    "\n",
    "# Definir los límites inferior y superior para detectar outliers\n",
    "limite_inferior = Q1 - 1.5 * IQR\n",
    "limite_superior = Q3 + 1.5 * IQR\n",
    "\n",
    "# Calcular la mediana de la columna 'Valor'\n",
    "mediana = df['Valor'].median()\n",
    "media = df['Valor'].mean()\n",
    "\n",
    "# Identificar los outliers (valores fuera de los límites)\n",
    "outliers = (df['Valor'] < limite_inferior) | (df['Valor'] > limite_superior)\n",
    "\n",
    "# Crear una copia del DataFrame original para no modificar el original directamente\n",
    "df_outliers_mediana = df.copy()\n",
    "# Crear una copia del DataFrame original para no modificar el original directamente\n",
    "df_outliers_media = df.copy()\n",
    "\n",
    "# Reemplazar los outliers por la mediana\n",
    "df_outliers_mediana.loc[outliers, 'Valor'] = mediana\n",
    "# Reemplazar los outliers por la mediana\n",
    "df_outliers_media.loc[outliers, 'Valor'] = media\n",
    "\n",
    "plt.figure(figsize=(6, 4))\n",
    "plt.boxplot([df_outliers_mediana['Valor'],df_outliers_media['Valor']], vert= False, patch_artist=True, boxprops=dict(facecolor='lightblue', color='blue'))\n",
    "plt.yticks([1, 2], ['Mediana', 'Media'])\n",
    "plt.title('Boxplot asignando la media o la mediana a los outliers')\n",
    "plt.show()"
   ]
  },
  {
   "cell_type": "markdown",
   "metadata": {},
   "source": [
    "### Transformar Datos: \n",
    "Aplicar transformaciones para reducir el impacto de los valores extremos. La elección de la transformación depende de la distribución de tus datos y el grado de impacto de los outliers.\n",
    "\n",
    "#### Transformación Logarítmica:\n",
    "* Se aplica cuando los datos tienen una distribución sesgada a la derecha (valores elevados y con dispersión).\n",
    "* Esta transformación reduce la varianza de los datos y \"comprime\" los valores más grandes, disminuyendo el impacto de los outliers.\n",
    "* Se utiliza cuando todos los valores son positivos.\n",
    "#### Transformación de Raíz Cuadrada:\n",
    "* También reduce el impacto de los valores altos pero en menor medida que la logarítmica.\n",
    "* Puede ser útil si la distribución es sesgada y los valores son positivos.\n",
    "#### Transformación de Box-Cox:\n",
    "* Esta es una transformación más flexible que puede ajustarse automáticamente al conjunto de datos.\n",
    "* Solo se puede aplicar a datos positivos.\n",
    "* Si tus datos tienen una distribución normal, esta transformación es efectiva para hacerlos más simétricos.\n",
    "#### Transformación de Yeo-Johnson:\n",
    "* Similar a Box-Cox, pero tiene la ventaja de que puede manejar valores negativos y ceros.\n",
    "* Es útil si tus datos tienen tanto valores negativos como positivos.\n"
   ]
  },
  {
   "cell_type": "code",
   "execution_count": 55,
   "metadata": {},
   "outputs": [
    {
     "data": {
      "image/png": "[encoded data removed]",
      "text/plain": [
       "<Figure size 1200x1200 with 4 Axes>"
      ]
     },
     "metadata": {},
     "output_type": "display_data"
    }
   ],
   "source": [
    "import numpy as np\n",
    "import pandas as pd\n",
    "import matplotlib.pyplot as plt\n",
    "from scipy import stats\n",
    "from sklearn.preprocessing import PowerTransformer\n",
    "\n",
    "# Datos con outliers\n",
    "data = {\n",
    "    'Valor': np.append(np.random.normal(60, 10, 70), [1, 100, 130, 140, 150])\n",
    "}\n",
    "df = pd.DataFrame(data)\n",
    "\n",
    "# Aplicar transformación logarítmica\n",
    "df['Valor_log'] = np.log(df['Valor'] + 1)\n",
    "\n",
    "# Aplicar transformación de Box-Cox\n",
    "df['Valor_boxcox'], _ = stats.boxcox(df['Valor'] + 1)\n",
    "\n",
    "# Aplicar transformación de Yeo-Johnson\n",
    "pt = PowerTransformer(method='yeo-johnson')\n",
    "df['Valor_yeojohnson'] = pt.fit_transform(df[['Valor']])\n",
    "\n",
    "# Definir los límites comunes de los ejes para todas las gráficas\n",
    "x_min = min(df[[ 'Valor_log', 'Valor_boxcox', 'Valor_yeojohnson']].min())\n",
    "x_max = max(df[[ 'Valor_log', 'Valor_boxcox', 'Valor_yeojohnson']].max())\n",
    "\n",
    "# Visualizar transformaciones\n",
    "plt.figure(figsize=(12, 12))\n",
    "\n",
    "plt.subplot(2, 2, 1)\n",
    "plt.hist(df['Valor'], bins=25, color='blue', alpha=0.7)\n",
    "#plt.xlim(x_min, x_max)  # Ajuste del eje x\n",
    "plt.title('Original')\n",
    "plt.xlabel('Valor')\n",
    "plt.ylabel('Frecuencia')\n",
    "\n",
    "plt.subplot(2, 2, 2)\n",
    "plt.hist(df['Valor_log'], bins=25, color='green', alpha=0.7)\n",
    "#plt.xlim(x_min, x_max)  # Ajuste del eje x\n",
    "plt.title('Log Transform')\n",
    "plt.xlabel('Valor')\n",
    "plt.ylabel('Frecuencia')\n",
    "\n",
    "plt.subplot(2, 2, 3)\n",
    "plt.hist(df['Valor_boxcox'], bins=25, color='red', alpha=0.7)\n",
    "#plt.xlim(x_min, x_max)  # Ajuste del eje x\n",
    "plt.title('Box-Cox Transform')\n",
    "plt.xlabel('Valor')\n",
    "plt.ylabel('Frecuencia')\n",
    "\n",
    "plt.subplot(2, 2, 4)\n",
    "plt.hist(df['Valor_yeojohnson'], bins=25, color='orange', alpha=0.7)\n",
    "#plt.xlim(x_min, x_max)  # Ajuste del eje x\n",
    "plt.title('Yeo-Johnson Transform')\n",
    "plt.xlabel('Valor')\n",
    "plt.ylabel('Frecuencia')\n",
    "\n",
    "plt.tight_layout()\n",
    "plt.show()\n"
   ]
  },
  {
   "cell_type": "code",
   "execution_count": null,
   "metadata": {},
   "outputs": [],
   "source": []
  }
 ],
 "metadata": {
  "kernelspec": {
   "display_name": "base",
   "language": "python",
   "name": "python3"
  },
  "language_info": {
   "codemirror_mode": {
    "name": "ipython",
    "version": 3
   },
   "file_extension": ".py",
   "mimetype": "text/x-python",
   "name": "python",
   "nbconvert_exporter": "python",
   "pygments_lexer": "ipython3",
   "version": "3.9.13"
  }
 },
 "nbformat": 4,
 "nbformat_minor": 2
}
