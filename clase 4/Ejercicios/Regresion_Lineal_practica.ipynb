{
 "cells": [
  {
   "cell_type": "markdown",
   "metadata": {},
   "source": [
    "# Regresión Lineal\n",
    "\n",
    "\n",
    "En este notebook vamos a ir construyendo las funciones que nos permiten hacer regresión lineal y las aplicaremos a casos sencillos."
   ]
  },
  {
   "cell_type": "code",
   "execution_count": 32,
   "metadata": {},
   "outputs": [],
   "source": [
    "import numpy as np\n",
    "import pandas as pd\n",
    "from sklearn import datasets\n",
    "import seaborn as sns\n",
    "import matplotlib.pyplot as plt"
   ]
  },
  {
   "cell_type": "markdown",
   "metadata": {},
   "source": [
    "## Ecuación Normal.\n",
    "\n",
    "Empezamos con la ecuación normal:\n",
    "$$\n",
    "\\boldsymbol{X}^T\\boldsymbol{X}\\Theta  - \\boldsymbol{X}^T\\bar{Y} = 0\n",
    "$$\n",
    "\n",
    "Primero programamos dos funciones:\n",
    "\n",
    "* `normal_equation()`: A partir de los datos de entrada guardados en una matriz $X$ (sin la columna de 1's) y las etiquetas en el vector $\\bar{Y}$ calcula los coeficientes $\\Theta$.\n",
    "* `predicted()`: Una vez conocidos los coeficientes, devuelve la predicción dado un conjunto de datos de entrada."
   ]
  },
  {
   "cell_type": "code",
   "execution_count": 33,
   "metadata": {},
   "outputs": [],
   "source": [
    "def normal_equation(X,y):\n",
    "    \"\"\"\n",
    "    X: el conjunto de datos de entrada en la matriz X(m,n)\n",
    "        m: número de datos. \n",
    "        n: número de variables predictoras o atributos.\n",
    "    y: Vector columna con las imagenes de los datos de entrada conocidas. \n",
    "\n",
    "    Resuelvo la ecuación normal (X^T)X Theta = (X^T)Y\n",
    "    Return Theta: vector de coeficientes de la regresión lineal\n",
    "    \"\"\"\n",
    "    n_samples, n_features = X.shape\n",
    "\n",
    "    # El primer paso será añadir la columna de 1's a los datos\n",
    "    # Puedes usar la funcion de numpy np.column_stack((v,M)) que añade v como columna de M a la izquierda\n",
    "\n",
    "    #***** TU CODIGO AQUI ********* (1 línea)\n",
    "    X_1 = np.column_stack((np.ones(n_samples), X))  \n",
    "    #***** TU CODIGO AQUI *********\n",
    "\n",
    "    # Construye la matriz (X^T)X y el vector (X^T)Y donde X es la matriz amplida con la columna de 1's\n",
    "\n",
    "    #***** TU CODIGO AQUI ********* (2 líneas)\n",
    "    A = np.dot(X_1.T, X_1)  # (X^T * X)\n",
    "    B = np.dot(X_1.T, y)    # (X^T * y)\n",
    "    #***** TU CODIGO AQUI *********\n",
    "\n",
    "    # Resuelve el sistema lineal (X^T)X Theta = (X^T)Y usando la función adecuada de numpy\n",
    "\n",
    "    #***** TU CODIGO AQUI ********* (1 línea)\n",
    "    Theta = np.linalg.solve(A, B)  # Theta = inv(X^T * X) * X^T * y  \n",
    "    #***** TU CODIGO AQUI *********  \n",
    "     \n",
    "    return Theta\n",
    "\n",
    "def predicted(X, Theta):\n",
    "    \"\"\"\n",
    "    X: el conjunto de datos de entrada en la matriz X(m,n)\n",
    "        m: número de datos. \n",
    "        n: número de variables predictoras o atributos.\n",
    "    Theta: vector de coeficientes Theta que devuelve la ecuación normal\n",
    "\n",
    "    Return Y = X Theta\n",
    "    \"\"\"\n",
    "    n_samples, n_features = X.shape\n",
    "    # El primer paso será añadir la columna de 1's a los datos\n",
    "    # Puedes usar la funcion de numpy np.column_stack((v,M)) que añade v como columna de M a la izquierda\n",
    "\n",
    "    #***** TU CODIGO AQUI ********* (1 línea)\n",
    "    X_1 = np.column_stack((np.ones(n_samples), X))\n",
    "    #***** TU CODIGO AQUI *********\n",
    "\n",
    "    # Calcula el vector de predicciones asociado a los datos de entrada Y=X Theta siendo X es la matriz amplida con la columna de 1's\n",
    "    \n",
    "    #***** TU CODIGO AQUI ********* (1 línea)\n",
    "    Y = np.dot(X_1, Theta)  # Y = X_1 * Theta\n",
    "\n",
    "    #***** TU CODIGO AQUI *********\n",
    "  \n",
    "    return  Y"
   ]
  },
  {
   "cell_type": "markdown",
   "metadata": {},
   "source": [
    "### Ejemplos a resolver:\n",
    "* #### Salarios:\n",
    "  Problema con 1 variable predictora (Años de experiencia) y una a predecir (Salario)\n",
    "      \n",
    "* #### Caso sintético de Sklearn:\n",
    "  Problema con 500 datos multivariables con 4 variables predictoras."
   ]
  },
  {
   "cell_type": "markdown",
   "metadata": {},
   "source": [
    "#### 1. Salario vs Años de Experiencia\n",
    "\n",
    "Datos de entrada:"
   ]
  },
  {
   "cell_type": "code",
   "execution_count": 34,
   "metadata": {},
   "outputs": [
    {
     "data": {
      "text/html": [
       "<div>\n",
       "<style scoped>\n",
       "    .dataframe tbody tr th:only-of-type {\n",
       "        vertical-align: middle;\n",
       "    }\n",
       "\n",
       "    .dataframe tbody tr th {\n",
       "        vertical-align: top;\n",
       "    }\n",
       "\n",
       "    .dataframe thead th {\n",
       "        text-align: right;\n",
       "    }\n",
       "</style>\n",
       "<table border=\"1\" class=\"dataframe\">\n",
       "  <thead>\n",
       "    <tr style=\"text-align: right;\">\n",
       "      <th></th>\n",
       "      <th>YearsExperience</th>\n",
       "      <th>Salary</th>\n",
       "    </tr>\n",
       "  </thead>\n",
       "  <tbody>\n",
       "    <tr>\n",
       "      <th>count</th>\n",
       "      <td>30.000000</td>\n",
       "      <td>30.000000</td>\n",
       "    </tr>\n",
       "    <tr>\n",
       "      <th>mean</th>\n",
       "      <td>5.313333</td>\n",
       "      <td>76003.000000</td>\n",
       "    </tr>\n",
       "    <tr>\n",
       "      <th>std</th>\n",
       "      <td>2.837888</td>\n",
       "      <td>27414.429785</td>\n",
       "    </tr>\n",
       "    <tr>\n",
       "      <th>min</th>\n",
       "      <td>1.100000</td>\n",
       "      <td>37731.000000</td>\n",
       "    </tr>\n",
       "    <tr>\n",
       "      <th>25%</th>\n",
       "      <td>3.200000</td>\n",
       "      <td>56720.750000</td>\n",
       "    </tr>\n",
       "    <tr>\n",
       "      <th>50%</th>\n",
       "      <td>4.700000</td>\n",
       "      <td>65237.000000</td>\n",
       "    </tr>\n",
       "    <tr>\n",
       "      <th>75%</th>\n",
       "      <td>7.700000</td>\n",
       "      <td>100544.750000</td>\n",
       "    </tr>\n",
       "    <tr>\n",
       "      <th>max</th>\n",
       "      <td>10.500000</td>\n",
       "      <td>122391.000000</td>\n",
       "    </tr>\n",
       "  </tbody>\n",
       "</table>\n",
       "</div>"
      ],
      "text/plain": [
       "       YearsExperience         Salary\n",
       "count        30.000000      30.000000\n",
       "mean          5.313333   76003.000000\n",
       "std           2.837888   27414.429785\n",
       "min           1.100000   37731.000000\n",
       "25%           3.200000   56720.750000\n",
       "50%           4.700000   65237.000000\n",
       "75%           7.700000  100544.750000\n",
       "max          10.500000  122391.000000"
      ]
     },
     "execution_count": 34,
     "metadata": {},
     "output_type": "execute_result"
    }
   ],
   "source": [
    "# Cargamos los datos desde el fichero CSV.\n",
    "# Modifica la ruta si lo necesitas\n",
    "import pandas as pd\n",
    "\n",
    "datos = pd.read_csv('./Archivos/Salary_Data.csv')\n",
    "datos.describe()"
   ]
  },
  {
   "cell_type": "code",
   "execution_count": 35,
   "metadata": {},
   "outputs": [
    {
     "data": {
      "text/plain": [
       "<function matplotlib.pyplot.show(close=None, block=None)>"
      ]
     },
     "execution_count": 35,
     "metadata": {},
     "output_type": "execute_result"
    },
    {
     "data": {
      "image/png": "[encoded data removed]",
      "text/plain": [
       "<Figure size 600x600 with 1 Axes>"
      ]
     },
     "metadata": {},
     "output_type": "display_data"
    }
   ],
   "source": [
    "import matplotlib.pyplot as plt\n",
    "\n",
    "plt.figure(figsize=(6, 6))\n",
    "plt.scatter(datos['YearsExperience'],datos['Salary'],s=30)\n",
    "plt.xlabel('Años de Experiencia')  # Set the label for x-axis\n",
    "plt.ylabel('Salario')  # Set the label for y-axis\n",
    "plt.title('Salario anual vs Años de Experiencia ')  # Set the title of the plot\n",
    "plt.show"
   ]
  },
  {
   "cell_type": "markdown",
   "metadata": {},
   "source": [
    "A continuación vamos a ir paso a paso resolviendo el problema:\n",
    "\n",
    "* Calculamos los coeficientes de la regresión lineal $\\Theta$ llamando a la función `normal_equation()`\n"
   ]
  },
  {
   "cell_type": "code",
   "execution_count": 36,
   "metadata": {},
   "outputs": [
    {
     "name": "stdout",
     "output_type": "stream",
     "text": [
      "[[25792.20019867]\n",
      " [ 9449.96232146]]\n"
     ]
    }
   ],
   "source": [
    "X = datos['YearsExperience'].values.reshape(-1,1) # Convierte la serie en un vector columna\n",
    "y = datos['Salary'].values.reshape(-1,1)\n",
    "\n",
    "#***** TU CODIGO AQUI ********* (1 línea)\n",
    "Theta = normal_equation(X, y)\n",
    "#***** TU CODIGO AQUI ********* \n",
    "\n",
    "print(Theta)"
   ]
  },
  {
   "cell_type": "markdown",
   "metadata": {},
   "source": [
    "*  Probamos el modelo en un vector que contiene 6 datos nuevos (años de experiencia). Para ello llamamos a la función `predicted()` "
   ]
  },
  {
   "cell_type": "code",
   "execution_count": 38,
   "metadata": {},
   "outputs": [
    {
     "name": "stdout",
     "output_type": "stream",
     "text": [
      "[[ 98870.27222389]\n",
      " [111843.01432651]\n",
      " [ 88228.22552442]\n",
      " [121280.55041683]\n",
      " [ 47556.19387643]\n",
      " [ 57901.76915785]]\n"
     ]
    }
   ],
   "source": [
    "X_test = np.random.uniform(0,12,(6,1))\n",
    "\n",
    "#***** TU CODIGO AQUI ********* (1 línea)\n",
    "Y_pred = predicted(X_test, Theta)\n",
    "#***** TU CODIGO AQUI *********\n",
    "\n",
    "print(Y_pred)"
   ]
  },
  {
   "cell_type": "markdown",
   "metadata": {},
   "source": [
    "* Representamos gráficamente los puntos originales, los puntos de prueba y la recta de regresión calculada"
   ]
  },
  {
   "cell_type": "code",
   "execution_count": 39,
   "metadata": {},
   "outputs": [
    {
     "data": {
      "image/png": "[encoded data removed]",
      "text/plain": [
       "<Figure size 600x600 with 1 Axes>"
      ]
     },
     "metadata": {},
     "output_type": "display_data"
    }
   ],
   "source": [
    "X_i = np.linspace(0,12,200).reshape((200,1))\n",
    "plt.figure(figsize=(6,6))\n",
    "# Puntos de entrenamiento\n",
    "sns.scatterplot(x=datos['YearsExperience'],y=datos['Salary'], marker=\"o\", label='Datos originales')\n",
    "# Puntos de prueba\n",
    "sns.scatterplot(x=X_test[:,0],y=Y_pred[:,0], color=\"r\",marker=\"s\", label='Predicciones')\n",
    "# Recta de regresión\n",
    "sns.lineplot(x=X_i[:,0], y=predicted(X_i, Theta)[:,0], color='green', label='Recta de aproximación lineal')\n",
    "plt.xlabel('Años de Experiencia')  # Set the label for x-axis\n",
    "plt.ylabel('Salario')  # Set the label for y-axis\n",
    "plt.title('Salario anual vs Años de Experiencia ')  # Set the title of the plot\n",
    "plt.show()"
   ]
  },
  {
   "cell_type": "markdown",
   "metadata": {},
   "source": [
    "### 2. Caso SKlearn\n",
    "\n",
    "En la libreria `Scikit-Learn` existen funciones para generar conjuntos de datos de forma artificial que utilizar para validar nuestros modelos.\n",
    "Vamos a empezar con un caso de regresión lineal con 500 datos cada uno de ellos con 4 variables de entrada.\n",
    "\n",
    "* Cómo interpretar el parámetro `noise=20`:\n",
    "Noise añade ruido gaussiano a las salidas del modelo lineal generado. En este caso, el ruido sigue una distribución normal con una desviación estándar de 20.\n",
    "Esto significa que, en promedio, los valores de y generados estarán desviados por alrededor de 20 unidades respecto a la verdadera relación lineal subyacente.\n",
    "\n",
    "* MSE esperado\n",
    "Un MSE esperable debería estar aproximadamente alrededor de la varianza del ruido introducido. Dado que especificaste noise=20, la varianza del ruido sería $20^2=400$. Esto te da una referencia de cuál sería el MSE mínimo esperable, ya que el modelo lineal tratará de capturar la relación subyacente, pero no podrá reducir el error por debajo del nivel de ruido introducido."
   ]
  },
  {
   "cell_type": "code",
   "execution_count": null,
   "metadata": {},
   "outputs": [],
   "source": [
    "X, y = datasets.make_regression(n_samples=500, n_features=4, noise=20, random_state=4)\n",
    "\n",
    "n_samples, n_features = np.shape(X)"
   ]
  },
  {
   "cell_type": "markdown",
   "metadata": {},
   "source": [
    "#### División en Train/test\n",
    "\n",
    "Lo primero que haremos será dividir el conjunto de datos de entrada en dos subconjuntos. Uno que llamaremos `Train` lo usaremos para crear el modelo lineal. El resto de datos de entrada formarán el `Test`, desconocido para el modelo, que emplearemos para ver como de bien aproxima el modelo."
   ]
  },
  {
   "cell_type": "code",
   "execution_count": null,
   "metadata": {},
   "outputs": [],
   "source": [
    "n_train = int(0.8*n_samples)\n",
    "order = list(range(n_samples))\n",
    "np.random.shuffle(order)\n",
    "\n",
    "X_shuffle = X[order,:]\n",
    "y_shuffle = y[order]\n",
    "\n",
    "X_train = X_shuffle[:n_train, :]\n",
    "y_train = y_shuffle[:n_train] \n",
    "\n",
    "X_test  = X_shuffle[n_train:, :]\n",
    "y_test  = y_shuffle[n_train:]"
   ]
  },
  {
   "cell_type": "markdown",
   "metadata": {},
   "source": [
    "A continuación vamos a ir paso a paso resolviendo el problema:\n",
    "\n",
    "* Calculamos los coeficientes de la regresión lineal $\\Theta$ llamando a la función `normal_equation()` sobre el conjunto de datos de entrenamiento."
   ]
  },
  {
   "cell_type": "code",
   "execution_count": null,
   "metadata": {},
   "outputs": [],
   "source": [
    "\n",
    "#***** TU CODIGO AQUI ********* (1 línea)\n",
    "# Theta = \n",
    "#***** TU CODIGO AQUI ********* \n",
    "\n",
    "print(Theta)"
   ]
  },
  {
   "cell_type": "markdown",
   "metadata": {},
   "source": [
    "*  Probamos el modelo en los datos de test. Para ello llamamos a la función `predicted()` "
   ]
  },
  {
   "cell_type": "code",
   "execution_count": null,
   "metadata": {},
   "outputs": [],
   "source": [
    "#***** TU CODIGO AQUI ********* (1 línea)\n",
    "# y_pred = \n",
    "#***** TU CODIGO AQUI ********* "
   ]
  },
  {
   "cell_type": "markdown",
   "metadata": {},
   "source": [
    "* Calculamos el MSE cometido en el conjunto de datos de test. Para ello implementa:\n",
    "$$\n",
    "J(\\Theta) = \\frac{1}{m} \\sum_{j=1}^m (\\bar{y}^j-y^j)^2 \n",
    "$$\n",
    "Intenta vectorizar la operación lo más posible. `y_pred` e `y_test` son vectores de la misma longitud. Puedes operar elemento a elemento para calcular $(\\bar{y}^j-y^j)^2 $ y sumar las componentes del vector resultado."
   ]
  },
  {
   "cell_type": "code",
   "execution_count": null,
   "metadata": {},
   "outputs": [],
   "source": [
    "# Calculo del error\n",
    "\n",
    "\n",
    "#***** TU CODIGO AQUI ********* (1 línea)\n",
    "# mse_test = \n",
    "#***** TU CODIGO AQUI ********* \n",
    "\n",
    "print(mse_test)"
   ]
  },
  {
   "cell_type": "markdown",
   "metadata": {},
   "source": [
    "* Por último representamos graficamente las predicciones frente a los valores reales. El error en cada dato es lo que se desvía de la diagonal."
   ]
  },
  {
   "cell_type": "code",
   "execution_count": null,
   "metadata": {},
   "outputs": [],
   "source": [
    "sns.scatterplot(x=y_test,y=y_pred)\n",
    "min_val = min(y_test.min(), y_pred.min())  # Valor mínimo para la diagonal\n",
    "max_val = max(y_test.max(), y_pred.max())  # Valor máximo para la diagonal\n",
    "plt.plot([min_val, max_val], [min_val, max_val], 'r--', lw=2, label=\"Línea ideal (y=x)\")\n",
    "plt.xlabel('Valores reales')\n",
    "plt.ylabel('Predicción')\n",
    "plt.title('Valor real vs. Predicción lineal en Test')\n",
    "plt.show"
   ]
  },
  {
   "cell_type": "markdown",
   "metadata": {},
   "source": [
    "## Descenso de Gradiente.\n",
    "\n",
    "\n",
    "Vamos ahora a implementar la función que halle los coeficientes de la regresión usando descenso de gradiente:\n",
    "\n",
    "$$\n",
    "\\Theta^{k+1} = \\Theta^k - \\alpha\\left( \\boldsymbol{X}^T\\boldsymbol{X}\\Theta  - \\boldsymbol{X}^T\\bar{Y}\\right)\n",
    "$$\n",
    "\n",
    "Para ello programaremos la función: `batch_gradient_descent(X,y,learning_rate = 0.0001, n_iters = 100)` que devuelve los pesos $\\Theta$ dados:\n",
    "\n",
    "* `X`: Matriz de datos de entrada $\\boldsymbol{X}$.\n",
    "* `y`: Vector de etiquetas $\\bar{Y}$ para esos datos de entrada.\n",
    "* `learning_rate`: tasa de aprendizaje $\\alpha$.\n",
    "* `n_iters`: número de iteraciones del descenso de gradiente. Se suele llamar *épocas* o `epochs`."
   ]
  },
  {
   "cell_type": "code",
   "execution_count": 45,
   "metadata": {},
   "outputs": [],
   "source": [
    "def batch_gradient_descent(X,y,learning_rate = 0.0001, n_iters = 100):\n",
    "    \"\"\"\n",
    "    X: el conjunto de datos de entrada en la matriz X(m,n)\n",
    "        m: número de datos. \n",
    "        n: número de variables predictoras o atributos.\n",
    "    y: Vector con las imagenes de los datos de entrada conocidas.\n",
    "    learning_rate: Tasa de aprendizaje. Por defecto 0.0001\n",
    "    n_iters: Numero de iteraciones o épocas del proceso iterativo. Por defecto 100 \n",
    "\n",
    "    Evaluo n_iters:\n",
    "        Theta^k+1 = Theta^k - learning_rate (2/m)(X^T(X Theta^k- Y)) \n",
    "    partiendo de un Theta^0 aleatorio\n",
    "    \n",
    "    Return Theta: vector de coeficientes de la regresión lineal\n",
    "    \"\"\"    \n",
    "    n_samples, n_features = X.shape\n",
    "\n",
    "    # Empezamos con un valor aleatorio Theta_0.\n",
    "    # Puedes usar la función np.random.rand() \n",
    "\n",
    "    #***** TU CODIGO AQUI ********* (1 línea)\n",
    "    Theta = np.random.rand(n_features + 1) \n",
    "    #***** TU CODIGO AQUI ********* \n",
    "\n",
    "    # A continuación añadimos la columna de 1's a los datos\n",
    "    # Puedes usar la funcion de numpy np.column_stack((v,M)) que añade v como columna de M a la izquierda\n",
    "\n",
    "    #***** TU CODIGO AQUI ********* (1 línea)\n",
    "    X_1 = np.column_stack(((np.ones(n_samples), X)))\n",
    "    #***** TU CODIGO AQUI *********\n",
    "  \n",
    "    # Iteramos por las epochs\n",
    "    for _ in range(n_iters):\n",
    "\n",
    "        # Implementa la operación matricial X^T(X Theta^k- Y)\n",
    "\n",
    "        #***** TU CODIGO AQUI ********* (1 línea)\n",
    "        gradient =  (2/n_samples) * np.dot(X_1.T, (np.dot(X_1, Theta) - y))\n",
    "        #***** TU CODIGO AQUI ********* \n",
    "\n",
    "        # Actualiza el valor de Theta\n",
    "        #***** TU CODIGO AQUI ********* (1 línea)\n",
    "        Theta -= learning_rate * gradient\n",
    "        #***** TU CODIGO AQUI ********* \n",
    "\n",
    "    return Theta"
   ]
  },
  {
   "cell_type": "markdown",
   "metadata": {},
   "source": [
    "### Ejemplo a resolver:\n",
    "#### Caso sintético de Sklearn:\n",
    "\n",
    "Mismo problema con 500 datos multivariables con 4 variables predictoras.\n"
   ]
  },
  {
   "cell_type": "markdown",
   "metadata": {},
   "source": [
    "#### División en Train/test\n",
    "\n",
    "Ya tenemos el caso preparado puesto que lo resolvimos con las **ecuación normal**.\n",
    "En esta ocasión para hacer la división entre *Train* y *Test* utilizo la función `train_test_split` del módulo `sklearn.model_selection` en lugar de hacer la división nosotros"
   ]
  },
  {
   "cell_type": "code",
   "execution_count": 43,
   "metadata": {},
   "outputs": [],
   "source": [
    "from sklearn.model_selection import train_test_split\n",
    "\n",
    "X, y = datasets.make_regression(n_samples=500, n_features=4, noise=20, random_state=4)\n",
    "X_train, X_test, y_train, y_test = train_test_split(X, y, test_size=0.2, random_state=6543)"
   ]
  },
  {
   "cell_type": "markdown",
   "metadata": {},
   "source": [
    "#### Cálculo de coeficientes de la regresión $\\Theta$\n",
    "\n",
    "Vamos a calcular los coeficientes usando tanto la **Ecuación Normal** (ya lo hicimos) como **Descenso de gradiente**. \n",
    "\n",
    "Los tiempos de cálculo no van a ser muy relevantes pues el caso que estamos probando es pequeño y el descenso de gradiente no va a suponer una mejora."
   ]
  },
  {
   "cell_type": "code",
   "execution_count": 46,
   "metadata": {},
   "outputs": [
    {
     "name": "stdout",
     "output_type": "stream",
     "text": [
      "Tiempo de cálculo de coeficientes en ecuaciones normales: 0.00211 segundos\n",
      "[9.17591097e-02 5.26064895e+01 9.27422155e+01 6.04749829e+00\n",
      " 8.46590902e+01]\n",
      "Tiempo de cálculo de coeficientes en descenso de gradiente: 0.00410 segundos\n",
      "[0.18683561 2.12951478 2.519218   0.24201504 2.14955125]\n"
     ]
    }
   ],
   "source": [
    "import time\n",
    "\n",
    "# Coeficientes calculados con la ecuacion normal\n",
    "start_time = time.time()\n",
    "\n",
    "#***** TU CODIGO AQUI ********* (1 línea)\n",
    "Theta_normal = normal_equation(X,y) \n",
    "#***** TU CODIGO AQUI *********\n",
    "\n",
    "end_time = time.time()\n",
    "elapsed_time = end_time - start_time\n",
    "print(f\"Tiempo de cálculo de coeficientes en ecuaciones normales: {elapsed_time:.5f} segundos\")\n",
    "print(Theta_normal)\n",
    "\n",
    "# Coeficientes calculados con descenso de gradiente\n",
    "start_time = time.time()\n",
    "\n",
    "#***** TU CODIGO AQUI ********* (1 línea)\n",
    "Theta_gradient = batch_gradient_descent(X,y,learning_rate = 0.0001, n_iters = 100)\n",
    "#***** TU CODIGO AQUI ********* \n",
    "\n",
    "end_time = time.time()\n",
    "elapsed_time = end_time - start_time\n",
    "print(f\"Tiempo de cálculo de coeficientes en descenso de gradiente: {elapsed_time:.5f} segundos\")\n",
    "print(Theta_gradient)"
   ]
  },
  {
   "cell_type": "markdown",
   "metadata": {},
   "source": [
    "#### Predicción sobre los datos de test.\n",
    "\n",
    "Solamente vamos a trabajar con los coeficientes devueltos por el método de *descenso de gradiente*.\n"
   ]
  },
  {
   "cell_type": "code",
   "execution_count": 49,
   "metadata": {},
   "outputs": [],
   "source": [
    "#***** TU CODIGO AQUI ********* (1 línea)\n",
    "y_pred = np.dot(np.column_stack((np.ones(n), X)), Theta_gradient)\n",
    "#***** TU CODIGO AQUI ********* "
   ]
  },
  {
   "cell_type": "code",
   "execution_count": 50,
   "metadata": {},
   "outputs": [
    {
     "name": "stdout",
     "output_type": "stream",
     "text": [
      "17294.250839669265\n"
     ]
    }
   ],
   "source": [
    "# Calculo del error\n",
    "\n",
    "#***** TU CODIGO AQUI ********* (1 línea)\n",
    "mse_test = np.mean((y - y_pred) ** 2)\n",
    "#***** TU CODIGO AQUI ********* \n",
    "\n",
    "print(mse_test)"
   ]
  },
  {
   "cell_type": "markdown",
   "metadata": {},
   "source": [
    "* Por último representamos graficamente las predicciones frente a los valores reales."
   ]
  },
  {
   "cell_type": "code",
   "execution_count": 51,
   "metadata": {},
   "outputs": [
    {
     "ename": "ValueError",
     "evalue": "All arrays must be of the same length",
     "output_type": "error",
     "traceback": [
      "\u001b[0;31m---------------------------------------------------------------------------\u001b[0m",
      "\u001b[0;31mValueError\u001b[0m                                Traceback (most recent call last)",
      "\u001b[1;32m/Users/marta.arnabat/Desktop/IA/upm/clase 4/Ejercicios/Regresion_Lineal_practica.ipynb Celda 38\u001b[0m line \u001b[0;36m1\n\u001b[0;32m----> <a href='vscode-notebook-cell:/Users/marta.arnabat/Desktop/IA/upm/clase%204/Ejercicios/Regresion_Lineal_practica.ipynb#X53sZmlsZQ%3D%3D?line=0'>1</a>\u001b[0m sns\u001b[39m.\u001b[39;49mscatterplot(x\u001b[39m=\u001b[39;49my_test,y\u001b[39m=\u001b[39;49my_pred)\n\u001b[1;32m      <a href='vscode-notebook-cell:/Users/marta.arnabat/Desktop/IA/upm/clase%204/Ejercicios/Regresion_Lineal_practica.ipynb#X53sZmlsZQ%3D%3D?line=1'>2</a>\u001b[0m min_val \u001b[39m=\u001b[39m \u001b[39mmin\u001b[39m(y_test\u001b[39m.\u001b[39mmin(), y_pred\u001b[39m.\u001b[39mmin())  \u001b[39m# Valor mínimo para la diagonal\u001b[39;00m\n\u001b[1;32m      <a href='vscode-notebook-cell:/Users/marta.arnabat/Desktop/IA/upm/clase%204/Ejercicios/Regresion_Lineal_practica.ipynb#X53sZmlsZQ%3D%3D?line=2'>3</a>\u001b[0m max_val \u001b[39m=\u001b[39m \u001b[39mmax\u001b[39m(y_test\u001b[39m.\u001b[39mmax(), y_pred\u001b[39m.\u001b[39mmax())  \u001b[39m# Valor máximo para la diagonal\u001b[39;00m\n",
      "File \u001b[0;32m~/Desktop/IA/env/lib/python3.12/site-packages/seaborn/relational.py:615\u001b[0m, in \u001b[0;36mscatterplot\u001b[0;34m(data, x, y, hue, size, style, palette, hue_order, hue_norm, sizes, size_order, size_norm, markers, style_order, legend, ax, **kwargs)\u001b[0m\n\u001b[1;32m    606\u001b[0m \u001b[39mdef\u001b[39;00m\u001b[39m \u001b[39m\u001b[39mscatterplot\u001b[39m(\n\u001b[1;32m    607\u001b[0m     data\u001b[39m=\u001b[39m\u001b[39mNone\u001b[39;00m, \u001b[39m*\u001b[39m,\n\u001b[1;32m    608\u001b[0m     x\u001b[39m=\u001b[39m\u001b[39mNone\u001b[39;00m, y\u001b[39m=\u001b[39m\u001b[39mNone\u001b[39;00m, hue\u001b[39m=\u001b[39m\u001b[39mNone\u001b[39;00m, size\u001b[39m=\u001b[39m\u001b[39mNone\u001b[39;00m, style\u001b[39m=\u001b[39m\u001b[39mNone\u001b[39;00m,\n\u001b[0;32m   (...)\u001b[0m\n\u001b[1;32m    612\u001b[0m     \u001b[39m*\u001b[39m\u001b[39m*\u001b[39mkwargs\n\u001b[1;32m    613\u001b[0m ):\n\u001b[0;32m--> 615\u001b[0m     p \u001b[39m=\u001b[39m _ScatterPlotter(\n\u001b[1;32m    616\u001b[0m         data\u001b[39m=\u001b[39;49mdata,\n\u001b[1;32m    617\u001b[0m         variables\u001b[39m=\u001b[39;49m\u001b[39mdict\u001b[39;49m(x\u001b[39m=\u001b[39;49mx, y\u001b[39m=\u001b[39;49my, hue\u001b[39m=\u001b[39;49mhue, size\u001b[39m=\u001b[39;49msize, style\u001b[39m=\u001b[39;49mstyle),\n\u001b[1;32m    618\u001b[0m         legend\u001b[39m=\u001b[39;49mlegend\n\u001b[1;32m    619\u001b[0m     )\n\u001b[1;32m    621\u001b[0m     p\u001b[39m.\u001b[39mmap_hue(palette\u001b[39m=\u001b[39mpalette, order\u001b[39m=\u001b[39mhue_order, norm\u001b[39m=\u001b[39mhue_norm)\n\u001b[1;32m    622\u001b[0m     p\u001b[39m.\u001b[39mmap_size(sizes\u001b[39m=\u001b[39msizes, order\u001b[39m=\u001b[39msize_order, norm\u001b[39m=\u001b[39msize_norm)\n",
      "File \u001b[0;32m~/Desktop/IA/env/lib/python3.12/site-packages/seaborn/relational.py:396\u001b[0m, in \u001b[0;36m_ScatterPlotter.__init__\u001b[0;34m(self, data, variables, legend)\u001b[0m\n\u001b[1;32m    387\u001b[0m \u001b[39mdef\u001b[39;00m\u001b[39m \u001b[39m\u001b[39m__init__\u001b[39m(\u001b[39mself\u001b[39m, \u001b[39m*\u001b[39m, data\u001b[39m=\u001b[39m\u001b[39mNone\u001b[39;00m, variables\u001b[39m=\u001b[39m{}, legend\u001b[39m=\u001b[39m\u001b[39mNone\u001b[39;00m):\n\u001b[1;32m    388\u001b[0m \n\u001b[1;32m    389\u001b[0m     \u001b[39m# TODO this is messy, we want the mapping to be agnostic about\u001b[39;00m\n\u001b[1;32m    390\u001b[0m     \u001b[39m# the kind of plot to draw, but for the time being we need to set\u001b[39;00m\n\u001b[1;32m    391\u001b[0m     \u001b[39m# this information so the SizeMapping can use it\u001b[39;00m\n\u001b[1;32m    392\u001b[0m     \u001b[39mself\u001b[39m\u001b[39m.\u001b[39m_default_size_range \u001b[39m=\u001b[39m (\n\u001b[1;32m    393\u001b[0m         np\u001b[39m.\u001b[39mr_[\u001b[39m.5\u001b[39m, \u001b[39m2\u001b[39m] \u001b[39m*\u001b[39m np\u001b[39m.\u001b[39msquare(mpl\u001b[39m.\u001b[39mrcParams[\u001b[39m\"\u001b[39m\u001b[39mlines.markersize\u001b[39m\u001b[39m\"\u001b[39m])\n\u001b[1;32m    394\u001b[0m     )\n\u001b[0;32m--> 396\u001b[0m     \u001b[39msuper\u001b[39;49m()\u001b[39m.\u001b[39;49m\u001b[39m__init__\u001b[39;49m(data\u001b[39m=\u001b[39;49mdata, variables\u001b[39m=\u001b[39;49mvariables)\n\u001b[1;32m    398\u001b[0m     \u001b[39mself\u001b[39m\u001b[39m.\u001b[39mlegend \u001b[39m=\u001b[39m legend\n",
      "File \u001b[0;32m~/Desktop/IA/env/lib/python3.12/site-packages/seaborn/_base.py:634\u001b[0m, in \u001b[0;36mVectorPlotter.__init__\u001b[0;34m(self, data, variables)\u001b[0m\n\u001b[1;32m    629\u001b[0m \u001b[39m# var_ordered is relevant only for categorical axis variables, and may\u001b[39;00m\n\u001b[1;32m    630\u001b[0m \u001b[39m# be better handled by an internal axis information object that tracks\u001b[39;00m\n\u001b[1;32m    631\u001b[0m \u001b[39m# such information and is set up by the scale_* methods. The analogous\u001b[39;00m\n\u001b[1;32m    632\u001b[0m \u001b[39m# information for numeric axes would be information about log scales.\u001b[39;00m\n\u001b[1;32m    633\u001b[0m \u001b[39mself\u001b[39m\u001b[39m.\u001b[39m_var_ordered \u001b[39m=\u001b[39m {\u001b[39m\"\u001b[39m\u001b[39mx\u001b[39m\u001b[39m\"\u001b[39m: \u001b[39mFalse\u001b[39;00m, \u001b[39m\"\u001b[39m\u001b[39my\u001b[39m\u001b[39m\"\u001b[39m: \u001b[39mFalse\u001b[39;00m}  \u001b[39m# alt., used DefaultDict\u001b[39;00m\n\u001b[0;32m--> 634\u001b[0m \u001b[39mself\u001b[39;49m\u001b[39m.\u001b[39;49massign_variables(data, variables)\n\u001b[1;32m    636\u001b[0m \u001b[39m# TODO Lots of tests assume that these are called to initialize the\u001b[39;00m\n\u001b[1;32m    637\u001b[0m \u001b[39m# mappings to default values on class initialization. I'd prefer to\u001b[39;00m\n\u001b[1;32m    638\u001b[0m \u001b[39m# move away from that and only have a mapping when explicitly called.\u001b[39;00m\n\u001b[1;32m    639\u001b[0m \u001b[39mfor\u001b[39;00m var \u001b[39min\u001b[39;00m [\u001b[39m\"\u001b[39m\u001b[39mhue\u001b[39m\u001b[39m\"\u001b[39m, \u001b[39m\"\u001b[39m\u001b[39msize\u001b[39m\u001b[39m\"\u001b[39m, \u001b[39m\"\u001b[39m\u001b[39mstyle\u001b[39m\u001b[39m\"\u001b[39m]:\n",
      "File \u001b[0;32m~/Desktop/IA/env/lib/python3.12/site-packages/seaborn/_base.py:679\u001b[0m, in \u001b[0;36mVectorPlotter.assign_variables\u001b[0;34m(self, data, variables)\u001b[0m\n\u001b[1;32m    674\u001b[0m \u001b[39melse\u001b[39;00m:\n\u001b[1;32m    675\u001b[0m     \u001b[39m# When dealing with long-form input, use the newer PlotData\u001b[39;00m\n\u001b[1;32m    676\u001b[0m     \u001b[39m# object (internal but introduced for the objects interface)\u001b[39;00m\n\u001b[1;32m    677\u001b[0m     \u001b[39m# to centralize / standardize data consumption logic.\u001b[39;00m\n\u001b[1;32m    678\u001b[0m     \u001b[39mself\u001b[39m\u001b[39m.\u001b[39minput_format \u001b[39m=\u001b[39m \u001b[39m\"\u001b[39m\u001b[39mlong\u001b[39m\u001b[39m\"\u001b[39m\n\u001b[0;32m--> 679\u001b[0m     plot_data \u001b[39m=\u001b[39m PlotData(data, variables)\n\u001b[1;32m    680\u001b[0m     frame \u001b[39m=\u001b[39m plot_data\u001b[39m.\u001b[39mframe\n\u001b[1;32m    681\u001b[0m     names \u001b[39m=\u001b[39m plot_data\u001b[39m.\u001b[39mnames\n",
      "File \u001b[0;32m~/Desktop/IA/env/lib/python3.12/site-packages/seaborn/_core/data.py:58\u001b[0m, in \u001b[0;36mPlotData.__init__\u001b[0;34m(self, data, variables)\u001b[0m\n\u001b[1;32m     51\u001b[0m \u001b[39mdef\u001b[39;00m\u001b[39m \u001b[39m\u001b[39m__init__\u001b[39m(\n\u001b[1;32m     52\u001b[0m     \u001b[39mself\u001b[39m,\n\u001b[1;32m     53\u001b[0m     data: DataSource,\n\u001b[1;32m     54\u001b[0m     variables: \u001b[39mdict\u001b[39m[\u001b[39mstr\u001b[39m, VariableSpec],\n\u001b[1;32m     55\u001b[0m ):\n\u001b[1;32m     57\u001b[0m     data \u001b[39m=\u001b[39m handle_data_source(data)\n\u001b[0;32m---> 58\u001b[0m     frame, names, ids \u001b[39m=\u001b[39m \u001b[39mself\u001b[39;49m\u001b[39m.\u001b[39;49m_assign_variables(data, variables)\n\u001b[1;32m     60\u001b[0m     \u001b[39mself\u001b[39m\u001b[39m.\u001b[39mframe \u001b[39m=\u001b[39m frame\n\u001b[1;32m     61\u001b[0m     \u001b[39mself\u001b[39m\u001b[39m.\u001b[39mnames \u001b[39m=\u001b[39m names\n",
      "File \u001b[0;32m~/Desktop/IA/env/lib/python3.12/site-packages/seaborn/_core/data.py:265\u001b[0m, in \u001b[0;36mPlotData._assign_variables\u001b[0;34m(self, data, variables)\u001b[0m\n\u001b[1;32m    260\u001b[0m             ids[key] \u001b[39m=\u001b[39m \u001b[39mid\u001b[39m(val)\n\u001b[1;32m    262\u001b[0m \u001b[39m# Construct a tidy plot DataFrame. This will convert a number of\u001b[39;00m\n\u001b[1;32m    263\u001b[0m \u001b[39m# types automatically, aligning on index in case of pandas objects\u001b[39;00m\n\u001b[1;32m    264\u001b[0m \u001b[39m# TODO Note: this fails when variable specs *only* have scalars!\u001b[39;00m\n\u001b[0;32m--> 265\u001b[0m frame \u001b[39m=\u001b[39m pd\u001b[39m.\u001b[39;49mDataFrame(plot_data)\n\u001b[1;32m    267\u001b[0m \u001b[39mreturn\u001b[39;00m frame, names, ids\n",
      "File \u001b[0;32m~/Desktop/IA/env/lib/python3.12/site-packages/pandas/core/frame.py:778\u001b[0m, in \u001b[0;36mDataFrame.__init__\u001b[0;34m(self, data, index, columns, dtype, copy)\u001b[0m\n\u001b[1;32m    772\u001b[0m     mgr \u001b[39m=\u001b[39m \u001b[39mself\u001b[39m\u001b[39m.\u001b[39m_init_mgr(\n\u001b[1;32m    773\u001b[0m         data, axes\u001b[39m=\u001b[39m{\u001b[39m\"\u001b[39m\u001b[39mindex\u001b[39m\u001b[39m\"\u001b[39m: index, \u001b[39m\"\u001b[39m\u001b[39mcolumns\u001b[39m\u001b[39m\"\u001b[39m: columns}, dtype\u001b[39m=\u001b[39mdtype, copy\u001b[39m=\u001b[39mcopy\n\u001b[1;32m    774\u001b[0m     )\n\u001b[1;32m    776\u001b[0m \u001b[39melif\u001b[39;00m \u001b[39misinstance\u001b[39m(data, \u001b[39mdict\u001b[39m):\n\u001b[1;32m    777\u001b[0m     \u001b[39m# GH#38939 de facto copy defaults to False only in non-dict cases\u001b[39;00m\n\u001b[0;32m--> 778\u001b[0m     mgr \u001b[39m=\u001b[39m dict_to_mgr(data, index, columns, dtype\u001b[39m=\u001b[39;49mdtype, copy\u001b[39m=\u001b[39;49mcopy, typ\u001b[39m=\u001b[39;49mmanager)\n\u001b[1;32m    779\u001b[0m \u001b[39melif\u001b[39;00m \u001b[39misinstance\u001b[39m(data, ma\u001b[39m.\u001b[39mMaskedArray):\n\u001b[1;32m    780\u001b[0m     \u001b[39mfrom\u001b[39;00m\u001b[39m \u001b[39m\u001b[39mnumpy\u001b[39;00m\u001b[39m.\u001b[39;00m\u001b[39mma\u001b[39;00m\u001b[39m \u001b[39m\u001b[39mimport\u001b[39;00m mrecords\n",
      "File \u001b[0;32m~/Desktop/IA/env/lib/python3.12/site-packages/pandas/core/internals/construction.py:503\u001b[0m, in \u001b[0;36mdict_to_mgr\u001b[0;34m(data, index, columns, dtype, typ, copy)\u001b[0m\n\u001b[1;32m    499\u001b[0m     \u001b[39melse\u001b[39;00m:\n\u001b[1;32m    500\u001b[0m         \u001b[39m# dtype check to exclude e.g. range objects, scalars\u001b[39;00m\n\u001b[1;32m    501\u001b[0m         arrays \u001b[39m=\u001b[39m [x\u001b[39m.\u001b[39mcopy() \u001b[39mif\u001b[39;00m \u001b[39mhasattr\u001b[39m(x, \u001b[39m\"\u001b[39m\u001b[39mdtype\u001b[39m\u001b[39m\"\u001b[39m) \u001b[39melse\u001b[39;00m x \u001b[39mfor\u001b[39;00m x \u001b[39min\u001b[39;00m arrays]\n\u001b[0;32m--> 503\u001b[0m \u001b[39mreturn\u001b[39;00m arrays_to_mgr(arrays, columns, index, dtype\u001b[39m=\u001b[39;49mdtype, typ\u001b[39m=\u001b[39;49mtyp, consolidate\u001b[39m=\u001b[39;49mcopy)\n",
      "File \u001b[0;32m~/Desktop/IA/env/lib/python3.12/site-packages/pandas/core/internals/construction.py:114\u001b[0m, in \u001b[0;36marrays_to_mgr\u001b[0;34m(arrays, columns, index, dtype, verify_integrity, typ, consolidate)\u001b[0m\n\u001b[1;32m    111\u001b[0m \u001b[39mif\u001b[39;00m verify_integrity:\n\u001b[1;32m    112\u001b[0m     \u001b[39m# figure out the index, if necessary\u001b[39;00m\n\u001b[1;32m    113\u001b[0m     \u001b[39mif\u001b[39;00m index \u001b[39mis\u001b[39;00m \u001b[39mNone\u001b[39;00m:\n\u001b[0;32m--> 114\u001b[0m         index \u001b[39m=\u001b[39m _extract_index(arrays)\n\u001b[1;32m    115\u001b[0m     \u001b[39melse\u001b[39;00m:\n\u001b[1;32m    116\u001b[0m         index \u001b[39m=\u001b[39m ensure_index(index)\n",
      "File \u001b[0;32m~/Desktop/IA/env/lib/python3.12/site-packages/pandas/core/internals/construction.py:677\u001b[0m, in \u001b[0;36m_extract_index\u001b[0;34m(data)\u001b[0m\n\u001b[1;32m    675\u001b[0m lengths \u001b[39m=\u001b[39m \u001b[39mlist\u001b[39m(\u001b[39mset\u001b[39m(raw_lengths))\n\u001b[1;32m    676\u001b[0m \u001b[39mif\u001b[39;00m \u001b[39mlen\u001b[39m(lengths) \u001b[39m>\u001b[39m \u001b[39m1\u001b[39m:\n\u001b[0;32m--> 677\u001b[0m     \u001b[39mraise\u001b[39;00m \u001b[39mValueError\u001b[39;00m(\u001b[39m\"\u001b[39m\u001b[39mAll arrays must be of the same length\u001b[39m\u001b[39m\"\u001b[39m)\n\u001b[1;32m    679\u001b[0m \u001b[39mif\u001b[39;00m have_dicts:\n\u001b[1;32m    680\u001b[0m     \u001b[39mraise\u001b[39;00m \u001b[39mValueError\u001b[39;00m(\n\u001b[1;32m    681\u001b[0m         \u001b[39m\"\u001b[39m\u001b[39mMixing dicts with non-Series may lead to ambiguous ordering.\u001b[39m\u001b[39m\"\u001b[39m\n\u001b[1;32m    682\u001b[0m     )\n",
      "\u001b[0;31mValueError\u001b[0m: All arrays must be of the same length"
     ]
    }
   ],
   "source": [
    "sns.scatterplot(x=y_test,y=y_pred)\n",
    "min_val = min(y_test.min(), y_pred.min())  # Valor mínimo para la diagonal\n",
    "max_val = max(y_test.max(), y_pred.max())  # Valor máximo para la diagonal\n",
    "plt.plot([min_val, max_val], [min_val, max_val], 'r--', lw=2, label=\"Línea ideal (y=x)\")\n",
    "plt.xlabel('Valores reales')\n",
    "plt.ylabel('Predicción')\n",
    "plt.title('Valor real vs. Predicción lineal en Test')\n",
    "plt.show"
   ]
  },
  {
   "cell_type": "markdown",
   "metadata": {},
   "source": [
    "## Regresión Polinómica.\n",
    "\n",
    "Vamos a generar un conjunto de datos en el intervalo $[-2, 2]$ a partir del polinomio\n",
    "\n",
    "$ f(x) = 3x^5 - 2x $\n",
    "\n",
    "El *dataset* estará formado por 30 puntos de la forma $X = \\{(x_i, f(x_i) + \\epsilon) \\}$ donde $\\epsilon$ será una variable aleatoria que tomará valores en el intervalo $[-\\frac{\\text{max}(f(x))}{10},\\frac{\\text{max}(f(x))}{10}]$"
   ]
  },
  {
   "cell_type": "code",
   "execution_count": null,
   "metadata": {},
   "outputs": [],
   "source": [
    "# generamos un conjunto de datos en el intervalo [-2,2]\n",
    "a = -2.\n",
    "b = 2.\n",
    "n_points = 30\n",
    "x_i = np.random.rand(n_points)*(b-a) + a\n",
    "\n",
    "# generamos sus imagenes a partir de la función y(x) = 3*x^5 -2*x + ruido \n",
    "# El ruido lo genero normalmente distribuido entre \n",
    "y_x = 3*x_i**5 -2*x_i\n",
    "max_val = max(abs(y_x))\n",
    "\n",
    "ruido = np.random.normal(-(max_val)/10, max_val/10, n_points)\n",
    "y_i = y_x + ruido\n",
    "\n",
    "# Representamos los puntos iniciales\n",
    "plt.scatter(x_i, y_i)\n",
    "    \n",
    "plt.title('Puntos iniciales')\n",
    "plt.xlabel('x')\n",
    "plt.ylabel('y')\n",
    "plt.xlim(a, b)"
   ]
  },
  {
   "cell_type": "markdown",
   "metadata": {},
   "source": [
    "#### Dividimos el conjunto inicial en *Train/Test*\n",
    "\n",
    "Tomamos 12 puntos como conjunto de datos de entrenamiento. "
   ]
  },
  {
   "cell_type": "code",
   "execution_count": null,
   "metadata": {},
   "outputs": [],
   "source": [
    "# Divido en training y test\n",
    "n_train = 12\n",
    "n_test = n_points-n_train\n",
    "order = list(range(len(x_i)))\n",
    "np.random.shuffle(order)\n",
    "\n",
    "x_train = np.array([x_i[i] for i in order[0:n_train]])\n",
    "y_train = np.array([y_i[i] for i in order[0:n_train]])\n",
    "\n",
    "x_test = np.array([x_i[i] for i in order[n_train:]])\n",
    "y_test = np.array([y_i[i] for i in order[n_train:]])\n",
    "\n",
    "\n",
    "# Representamos los puntos iniciales\n",
    "sns.scatterplot(x=x_i,y=y_i,  marker = 'o' , edgecolor='blue', facecolor='none', label= 'Puntos originales', s= 40 )\n",
    "sns.scatterplot(x=x_train,y=y_train,  marker = 'o' , color = 'red', label= 'Puntos entrenamiento', s= 20 )\n",
    "sns.scatterplot(x=x_test,y=y_test,  marker = 'o' , color = 'black', label= 'Puntos test', s= 20 )\n",
    "\n",
    "plt.title('Puntos ')\n",
    "plt.xlabel('x')\n",
    "plt.ylabel('y')\n",
    "plt.xlim(a, b)"
   ]
  },
  {
   "cell_type": "markdown",
   "metadata": {},
   "source": [
    "La manera en que vamos a calcular el polinomio de regresión de un determinado orden $p$ va a ser generar la matriz de datos sabiendo que sus columnas son potencias de orden creciente del vector con los datos originales:\n",
    "\n",
    "$$\n",
    "\\boldsymbol{X} = \\begin{pmatrix}\n",
    " x_1 & x_1^2 & \\dots & x_1^p\\\\\n",
    " x_2 & x_2^2 & \\dots & x_2^p\\\\\n",
    "\\vdots & \\vdots & \\dots & \\vdots\\\\\n",
    " x_m & x_m^2 & \\dots & x_m^p\n",
    "\\end{pmatrix}\n",
    "$$\n",
    "\n",
    "Esa matriz será el primer argumento de entrada en la función `normal_equation()` "
   ]
  },
  {
   "cell_type": "markdown",
   "metadata": {},
   "source": [
    "#### Cálculo de coeficientes de la regresión $\\Theta$\n",
    "\n",
    "Vamos a calcular los coeficientes usando la **Ecuación Normal**. \n",
    "\n",
    "Para ello, antes de llamar a las ecuaciones genera la matriz X_train  (X mayúscula) a partir del  vector x_train  calculado en la celda anterior  "
   ]
  },
  {
   "cell_type": "code",
   "execution_count": null,
   "metadata": {},
   "outputs": [],
   "source": [
    "p = 5 # Orden polinómico\n",
    "\n",
    "#***** TU CODIGO AQUI ********* \n",
    "# X_train = \n",
    "#***** TU CODIGO AQUI *********\n"
   ]
  },
  {
   "cell_type": "markdown",
   "metadata": {},
   "source": [
    "*  Calculamos ahora los coeficientes del polinomio de regresión"
   ]
  },
  {
   "cell_type": "code",
   "execution_count": null,
   "metadata": {},
   "outputs": [],
   "source": [
    "#***** TU CODIGO AQUI ********* (1 línea)\n",
    "# Theta = \n",
    "#***** TU CODIGO AQUI *********\n",
    "print(Theta)"
   ]
  },
  {
   "cell_type": "markdown",
   "metadata": {},
   "source": [
    "#### Dibujar el polinomio resultante \n",
    "\n",
    "Vamos a implementar una función de nombre `polinomio` que dado un vector de coeficientes de tamaño $p+1$ y conjunto de puntos $\\boldsymbol{x}$ devuelva el vector: \n",
    "$$\n",
    "h_\\Theta(\\boldsymbol{x}) = \\theta_0  + \\theta_1 \\boldsymbol{x} + \\theta_2 \\boldsymbol{x}^2 + \\theta_3 \\boldsymbol{x}^3 +  \\dots +  \\theta_p \\boldsymbol{x}^p\n",
    "$$"
   ]
  },
  {
   "cell_type": "code",
   "execution_count": null,
   "metadata": {},
   "outputs": [],
   "source": [
    "def polinomio(Theta, x):\n",
    "\n",
    "    #***** TU CODIGO AQUI *********\n",
    "    \n",
    "    \n",
    "    #***** TU CODIGO AQUI *********\n",
    "\n",
    "    return imagen\n",
    "\n",
    "x_value = np.linspace(a,b,300)\n",
    "y_value = polinomio(Theta,x_value)\n",
    "\n",
    "# Representamos los puntos iniciales\n",
    "sns.lineplot(x=x_value,y=y_value, label= 'Polinomio de grado ' +str(p) )\n",
    "sns.scatterplot(x=x_train,y=y_train,  marker = 'o' , color = 'red', label= 'Puntos entrenamiento', s= 20 )\n",
    "sns.scatterplot(x=x_i,y=y_i,  marker = 'o' , edgecolor='blue', facecolor='none', label= 'Puntos originales', s= 40 )\n",
    "plt.xlabel('x')\n",
    "plt.ylabel('y')\n",
    "plt.title('Polinomio aproximador')"
   ]
  },
  {
   "cell_type": "markdown",
   "metadata": {},
   "source": [
    "## Regularización.\n",
    "\n",
    "De momento solo vamos a implementar la ecuación normal modificada para el caso de **Ridge** donde la función de error toma la forma:\n",
    "\n",
    "$$\n",
    "J(\\Theta) = \\dfrac{1}{m} \\displaystyle\\sum_{j=1}^m (h_\\Theta(\\boldsymbol{x^j})-\\bar{y}^j)^2 + \\dfrac{\\lambda}{m} \\displaystyle\\sum_{i=1}^{n} \\theta_i^2 \n",
    "$$\n",
    "\n",
    "y la ecuación normal se escribe como:\n",
    "$$\n",
    "\\left(X^TX +\\lambda D\\right)\\Theta = X^T \\bar{Y}  \\text{   con }\n",
    "$$\n",
    "\n",
    "$$\n",
    "D = \\begin{pmatrix}\n",
    "0 & 0 & 0 & \\dots & 0\\\\\n",
    "0 & 1 & 0 & \\dots & 0\\\\\n",
    "0 & 0 & 1 &  \\dots & 0\\\\\n",
    "\\vdots & \\vdots &  & \\dots & \\vdots\\\\\n",
    "0 & 0 & 0 & \\dots & 1\n",
    "\\end{pmatrix} \n",
    "\\hspace{0.5cm}\n",
    "D \\in \\mathbb{M}^{(n+1)\\times(n+1)}(\\mathbb{R})\n",
    "$$\n",
    "\n",
    "\n",
    "Implementaremos una función:\n",
    "\n",
    "* `normal_equations_ridge(X, y, alpha = 1.)`: Pensada para el caso de regresión lineal con un conjunto de `m` datos de entrada con `n` características siendo `alpha` el coeficiente de regularización ($\\lambda$ en la ecuación)."
   ]
  },
  {
   "cell_type": "code",
   "execution_count": null,
   "metadata": {},
   "outputs": [],
   "source": [
    "def normal_equations_ridge(X, y, alpha = 10.):\n",
    "    \"\"\"\n",
    "    X: el conjunto de datos de entrada en la matriz X(m,n)\n",
    "        m: número de datos. \n",
    "        n: número de variables predictoras o atributos.\n",
    "    y: Vector con las imagenes de los datos de entrada conocidas. \n",
    "    alpha: coeficiente de regularización\n",
    "\n",
    "    Resuelvo la ecuación normal [(X^T)X + alpha*D] Theta = (X^T)Y\n",
    "    Return Theta: vector de coeficientes de la regresión lineal\n",
    "    \"\"\"\n",
    "\n",
    "    n_samples, n_features = X.shape\n",
    "    \n",
    "    # Construcción de la matriz de regularización D\n",
    "\n",
    "    #***** TU CODIGO AQUI ********* (2 líneas)\n",
    "    # D = \n",
    "\n",
    "    #***** TU CODIGO AQUI *********\n",
    "\n",
    "\n",
    "    # A continuación añadimos la columna de 1's a los datos\n",
    "    # Puedes usar la funcion de numpy np.column_stack((v,M)) que añade v como columna de M a la izquierda\n",
    "\n",
    "    #***** TU CODIGO AQUI ********* (1 línea)\n",
    "    \n",
    "    #***** TU CODIGO AQUI *********\n",
    "\n",
    "    # Construye la matriz (X^T)X + alpha*D y el vector (X^T)Y donde X es la matriz amplida con la columna de 1's\n",
    "\n",
    "    #***** TU CODIGO AQUI ********* (2 líneas)\n",
    "    \n",
    "\n",
    "    #***** TU CODIGO AQUI *********\n",
    "\n",
    "    # Resuelve el sistema lineal [(X^T)X + alpha*D] Theta = (X^T)Y usando la función adecuada de numpy\n",
    "\n",
    "    #***** TU CODIGO AQUI ********* (1 línea)\n",
    "    # Theta =  \n",
    "    #***** TU CODIGO AQUI *********\n",
    "    \n",
    "    return Theta"
   ]
  },
  {
   "cell_type": "markdown",
   "metadata": {},
   "source": [
    "### Generar datos donde veamos el efecto de la *Regularización*.\n",
    "\n",
    "Vamos a generar una matriz de datos con 100 muestras y 4 características. Para ver el efecto de la regularización las dos últimas características estarán fuertemente correlacionadas con las dos primeras.\n",
    " "
   ]
  },
  {
   "cell_type": "code",
   "execution_count": null,
   "metadata": {},
   "outputs": [],
   "source": [
    "# Generar un dataset con 32 variables originales y 100 muestras\n",
    "X, y = datasets.make_regression(n_samples=100, n_features=2, noise=10, random_state=12)\n",
    "\n",
    "# Inducir colinealidad añadiendo variables dependientes de las originales  \n",
    "U = (0.95 * X[:, 0] + 0.05 * np.random.randn(100)).reshape((100,1))  # Fuerte correlación con X[:,0]\n",
    "V = (0.95 * X[:, 1] + 0.01 * np.random.randn(100)).reshape((100,1))  # Fuerte correlación con X[:,1]\n",
    "\n",
    "X_collinear = np.column_stack((X, U, V))\n",
    "X_collinear.shape\n"
   ]
  },
  {
   "cell_type": "markdown",
   "metadata": {},
   "source": [
    "#### Normalización de los datos\n",
    "\n",
    "Antes de hacer la división en *Train* y *Test* normalizo los datos de entrada.\n",
    "\n",
    "Vamos a aplicar *Standard Scaler* a cada variable \n",
    "$$\n",
    "X_{\\text{normalized}} = \\dfrac{X-\\mu}{\\sigma}\n",
    "$$\n",
    "siendo $\\mu$ la media y $\\sigma$ la desviación estandar."
   ]
  },
  {
   "cell_type": "code",
   "execution_count": null,
   "metadata": {},
   "outputs": [],
   "source": [
    "# Normalizamos los datos usando Standard Scaler\n",
    "\n",
    "# Paso 1: Calcula la media y la desviación estándar de cada columna de X_collinear\n",
    "\n",
    "#***** TU CODIGO AQUI ********* (2 líneas)\n",
    "# mean =\n",
    "# std = \n",
    "#***** TU CODIGO AQUI ********* \n",
    "\n",
    "# Paso 2: Normaliza los datos usando broadcasting\n",
    "\n",
    "#***** TU CODIGO AQUI ********* (1 línea)\n",
    "# X_normalized = \n",
    "#***** TU CODIGO AQUI ********* "
   ]
  },
  {
   "cell_type": "markdown",
   "metadata": {},
   "source": [
    "####  Dividimos en *Train* y *Test*"
   ]
  },
  {
   "cell_type": "code",
   "execution_count": null,
   "metadata": {},
   "outputs": [],
   "source": [
    "X_train, X_test, y_train, y_test = train_test_split(X_normalized, y, test_size=0.2, random_state=6543)"
   ]
  },
  {
   "cell_type": "markdown",
   "metadata": {},
   "source": [
    "#### Cálculo de los coeficientes de la regresión\n",
    "\n",
    "Vamos a calcular los coeficientes usando y sin usar la regularización para ver su efecto."
   ]
  },
  {
   "cell_type": "code",
   "execution_count": null,
   "metadata": {},
   "outputs": [],
   "source": [
    "# Usa la ecuación normal para hallar los coeficientes sin regularizar\n",
    "\n",
    "#***** TU CODIGO AQUI ********* (1 línea)\n",
    "# Theta_normal = \n",
    "#***** TU CODIGO AQUI ********* \n",
    "\n",
    "# Usa la ecuación normal con regularización de Ridge para hallar los coeficientes\n",
    "\n",
    "#***** TU CODIGO AQUI ********* (1 línea)\n",
    "# Theta_ridge = \n",
    "#***** TU CODIGO AQUI *********\n"
   ]
  },
  {
   "cell_type": "markdown",
   "metadata": {},
   "source": [
    "* Comparamos los coeficientes"
   ]
  },
  {
   "cell_type": "code",
   "execution_count": null,
   "metadata": {},
   "outputs": [],
   "source": [
    "\n",
    "# **Imprimir coeficientes**\n",
    "print(\"Coeficientes sin regularización:\", Theta_normal)\n",
    "print(\"Coeficientes con Ridge:\", Theta_ridge)\n",
    "\n",
    "# **Visualización**\n",
    "labels = [\"Intercepto\", \"X1\", \"X2\", \"X3\" , \"X4\"]\n",
    "x_pos = np.arange(len(labels))\n",
    "\n",
    "plt.bar(x_pos - 0.2, Theta_normal, width=0.4, label=\"Regresión lineal\", color=\"blue\")\n",
    "plt.bar(x_pos + 0.2, Theta_ridge, width=0.4, label=\"Ridge\", color=\"green\")\n",
    "plt.xticks(x_pos, labels)\n",
    "plt.ylabel(\"Valor de los coeficientes\")\n",
    "plt.title(\"Comparación de coeficientes con y sin Ridge\")\n",
    "plt.legend()\n",
    "plt.show()\n"
   ]
  },
  {
   "cell_type": "markdown",
   "metadata": {},
   "source": [
    "#### Predicción en el conjunto de *Test*"
   ]
  },
  {
   "cell_type": "code",
   "execution_count": null,
   "metadata": {},
   "outputs": [],
   "source": [
    "#***** TU CODIGO AQUI ********* (2 línea)\n",
    "# y_pred_ridge  = \n",
    "# y_pred_normal =\n",
    "#***** TU CODIGO AQUI ********* "
   ]
  },
  {
   "cell_type": "markdown",
   "metadata": {},
   "source": [
    "#### Error sin y con Regularización."
   ]
  },
  {
   "cell_type": "code",
   "execution_count": null,
   "metadata": {},
   "outputs": [],
   "source": [
    "# Calculo del error\n",
    "\n",
    "#***** TU CODIGO AQUI ********* (2 línea)\n",
    "# mse_test_normal = \n",
    "# mse_test_ridge  = \n",
    "#***** TU CODIGO AQUI ********* \n",
    "\n",
    "print(mse_test_normal)\n",
    "print(mse_test_ridge)"
   ]
  },
  {
   "cell_type": "markdown",
   "metadata": {},
   "source": [
    "* Por último representamos graficamente ambas predicciones frente a los valores reales."
   ]
  },
  {
   "cell_type": "code",
   "execution_count": null,
   "metadata": {},
   "outputs": [],
   "source": [
    "sns.scatterplot(x=y_test,y=y_pred_normal, color = 'b', label='Regresión sin regularización')\n",
    "sns.scatterplot(x=y_test,y=y_pred_ridge, color = 'g', label='Regresión con regularización')\n",
    "min_val = min(y_test.min(), y_pred_normal.min(), y_pred_ridge.min())  # Valor mínimo para la diagonal\n",
    "max_val = max(y_test.max(), y_pred_normal.max(), y_pred_ridge.max())  # Valor máximo para la diagonal\n",
    "plt.plot([min_val, max_val], [min_val, max_val], 'r--', lw=2, label=\"Línea ideal (y=x)\")\n",
    "plt.xlabel('Valores reales')\n",
    "plt.ylabel('Predicción')\n",
    "plt.title('Valor real vs. Predicción lineal en Test')\n",
    "plt.show"
   ]
  }
 ],
 "metadata": {
  "kernelspec": {
   "display_name": "ciencia_de_datos_2",
   "language": "python",
   "name": "python3"
  },
  "language_info": {
   "codemirror_mode": {
    "name": "ipython",
    "version": 3
   },
   "file_extension": ".py",
   "mimetype": "text/x-python",
   "name": "python",
   "nbconvert_exporter": "python",
   "pygments_lexer": "ipython3",
   "version": "3.12.8"
  }
 },
 "nbformat": 4,
 "nbformat_minor": 2
}
