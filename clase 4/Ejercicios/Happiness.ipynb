{
 "cells": [
  {
   "cell_type": "markdown",
   "id": "a9340cfd-e901-45aa-8ba9-432b5f1585ce",
   "metadata": {},
   "source": [
    "# Predicción del Happiness Score usando Regresión Lineal.\n",
    "\n",
    "El [**World Happiness Report**](https://worldhappiness.report/) es una publicación anual que clasifica a los países en función de su nivel de felicidad. Este nivel de felicidad o **Happiness Score** está influenciado por varios factores socioeconómicos y de bienestar, tales como el PIB per cápita, el apoyo social, la esperanza de vida saludable, la libertad para tomar decisiones de vida, la generosidad, la percepción de corrupción y la percepción del estado de ánimo.\n",
    "\n",
    "En la práctica utilizaremos técnicas de regresión lineal para predecir el *Happiness Score* a partir de los factores mencionados, usando el conjunto de datos. \n",
    "\n",
    "### Objetivos de la práctica:\n",
    "\n",
    "\n",
    "* Análisis Exploratorio de Datos (EDA): Entender la estructura del conjunto de datos, visualizar las relaciones entre variables y determinar las correlaciones.\n",
    "* Implementar Regresión Lineal: Entrenar un modelo de regresión lineal para predecir el *Happiness Score* usando los factores disponibles en el conjunto de datos.\n",
    "    *  Regularización: Explorar si la regularización (Ridge y Lasso) es útil en este caso.\n",
    "    *  Escalado de Variables: Determinar si es necesario escalar las variables antes de ajustar los modelos.\n",
    "* Evaluación del Modelo: Comparar las métricas de rendimiento del modelo (RMSE, R²) en distintos escenarios (con y sin regularización, con y sin escalado).\n"
   ]
  },
  {
   "cell_type": "markdown",
   "id": "81d3b300-79f7-4056-bb61-214201afa7fd",
   "metadata": {},
   "source": [
    "### Archivo de datos.\n",
    "\n",
    "El fichero `happiness.csv` contiene en formato *csv* el conjunto de datos que utilizaremos en la práctica. Asegúrate de que contiene las siguientes columnas:\n",
    "\n",
    "* `Country`: Nombre del país.\n",
    "* `year`: Para cada país los años en los que hay registros.\n",
    "* `Life Ladder`: o Happiness Score: Índice de felicidad (variable objetivo a predecir).\n",
    "* `Log GDP per capita`:  PIB per cápita en escala logarítmica.\n",
    "* `Social Support`: Apoyo social percibido. Es la media nacional a la pregunta Si o no (1/0) \"Si tuvieses problemas ¿Tienes familia o amigos con los que contar si los necesitas?\"\n",
    "* `Healthy Life Expectancy`: Esperanza de vida saludable\n",
    "* `Freedom to Make Life Choices`: Libertad para tomar decisiones sobre la vi De nuevo media nacional a la pregunta Si o no (1/0) \"¿Estás satisfecho con la libertad que tienes para elegir lo que quieres en tu vida?\"\n",
    "* `Generosity`: Generosidad de la población. Promedio nacional de las respuestas a la pregunta \"¿Ha donado dinero a una organización benéfica en el último mes? Se calcula eliminando el efecto del PIB per cápita, ajustando las donaciones a lo que se esperaría dado el nivel de riqueza del país (PIB per cápita). El residual representa cuánto más (o menos) dona una nación, en comparación con lo que predeciría el PIB per cápita.\n",
    "* `Perception of Corruption`: Percepción de la corrupción La medida es el promedio nacional de las respuestas a dos preguntas de la encuesta: \"¿Está la corrupción generalizada en el gobierno o no?\" y \"¿Está la corrupción generalizada en las empresas o no?\". La percepción general es simplemente el promedio de las dos respuestas, que son 0 o 1.\n",
    "  \n",
    "* `Positive affect`: Es el promedio de tres medidas de afecto positivo en la encuesta: risa, disfrute y realización de actividades interesantes. Se calcula a partir de las respuestas a preguntas como \"¿Reíste o sonreíste mucho ayer?\", \"¿Experimentaste disfrute durante gran parte del día?\", y \"¿Aprendiste o hiciste algo interesante ayer?\". De nuevo media entre 0 y 1.\n",
    "  \n",
    "* `Negative affect`: Es el promedio de tres medidas de afecto negativo: preocupación, tristeza y enfado, obtenidas a partir de preguntas como \"¿Te sentiste preocupado durante gran parte del día?\", \"¿Te sentiste triste durante gran parte del día?\", y \"¿Te sentiste enfadado durante gran parte del día?\". De nuevo media entre 0 y 1.\n",
    "\n"
   ]
  },
  {
   "cell_type": "markdown",
   "id": "1867bacc-9d28-4c5d-b3c5-e2d09b12c49f",
   "metadata": {},
   "source": [
    "## Predicción del *Happiness Score* 2023.\n",
    "\n",
    "Vamos a empezar tomando solamente los datos correspondientes al año 2023. Lo primero que haremos será limitar el análisis a aquellos países para los que hay información en ese año.\n",
    "\n",
    "Con esos datos haremos lo siguiente:\n",
    "\n",
    "[Paso 1: Análisis Exploratorio de Datos (EDA)](#Paso1)\n",
    "\n",
    "[Paso 2: Regresión Lineal](#Paso2)\n",
    "\n",
    "[Paso 3: Escalado de las Variables](#Paso3)\n",
    "\n",
    "[Paso 4: Regularización (Ridge y Lasso)](#Paso4)\n",
    "\n",
    "[Paso 5: Comparación Final](#Paso5)"
   ]
  },
  {
   "cell_type": "markdown",
   "id": "05b51b67-4751-4187-ae0d-292ca4408365",
   "metadata": {},
   "source": [
    "<a id=\"Paso1\"></a>\n",
    "## Paso 1: Análisis Exploratorio de Datos (EDA)\n",
    "\n",
    "* Carga el conjunto de datos y describe las características principales del mismo.\n",
    "* Visualiza las distribuciones de las variables numéricas usando histogramas.\n",
    "* Calcula la matriz de correlación y visualízala con un mapa de calor. Identifica las variables que están más correlacionadas con el Happiness Score.\n",
    "* Realiza gráficos de dispersión (scatterplot) para estudiar las relaciones entre el *Happiness Score* y cada uno de los factores."
   ]
  },
  {
   "cell_type": "code",
   "execution_count": 3,
   "id": "15f7efa8-2134-456e-a44f-2c55e605bf4d",
   "metadata": {},
   "outputs": [],
   "source": [
    "import pandas as pd\n",
    "happy_2023 = pd.read_csv('..\\Archivos\\happiness.csv', sep=';', decimal=',', encoding='ISO-8859-1')"
   ]
  },
  {
   "cell_type": "markdown",
   "id": "6184f743-aa25-444b-8e67-c0060c41285b",
   "metadata": {},
   "source": [
    "<a id=\"Paso2\"></a>\n",
    "## Paso 2: Regresión Lineal\n",
    "\n",
    "* Define el **Happiness Score** como la variable dependiente y las demás columnas como variables independientes.\n",
    "* Ajusta un modelo de Regresión Lineal con el conjunto de datos sin realizar ninguna modificación (sin escalado ni regularización).\n",
    "* Usa *train_test_split* para dividir los datos en conjuntos de entrenamiento y test.\n",
    "* Calcula y muestra las métricas de rendimiento, como el RMSE (*Root Mean Squared Error*) y el R² en el conjunto de test."
   ]
  },
  {
   "cell_type": "code",
   "execution_count": null,
   "id": "d7be3db9-65bb-4402-b312-1081f872c1e9",
   "metadata": {},
   "outputs": [],
   "source": []
  },
  {
   "cell_type": "markdown",
   "id": "feada0df-59e7-4702-996a-39e2a8529d28",
   "metadata": {},
   "source": [
    "<a id=\"Paso3\"></a>\n",
    "## Paso 3: Escalado de las Variables\n",
    "\n",
    "* Realiza el escalado de las variables independientes usando StandardScaler.\n",
    "* Ajusta un nuevo modelo de regresión lineal con los datos escalados.\n",
    "* Evalúa el impacto del escalado en el rendimiento del modelo, comparando con los resultados del modelo sin escalar."
   ]
  },
  {
   "cell_type": "code",
   "execution_count": null,
   "id": "ecb1944d-b4b4-4cd7-9158-49be51a34ebc",
   "metadata": {},
   "outputs": [],
   "source": []
  },
  {
   "cell_type": "markdown",
   "id": "44e3325e-df15-4b50-8a47-947a0bf3da78",
   "metadata": {},
   "source": [
    "<a id=\"Paso4\"></a>\n",
    "## Paso 4: Regularización (Ridge y Lasso)\n",
    "\n",
    "* Implementa la Regresión Ridge y Lasso usando las variables escaladas.\n",
    "* Experimenta con diferentes valores del parámetro de regularización alpha.\n",
    "* Evalúa los coeficientes del modelo y observa cómo la regularización afecta a las variables menos relevantes (coeficientes cercanos a cero en el caso de Lasso).\n",
    "* Compara las métricas de rendimiento en el conjunto de prueba con las de la regresión lineal simple."
   ]
  },
  {
   "cell_type": "code",
   "execution_count": null,
   "id": "fdb09fcd-37b9-4984-a7bb-0dbfe5bc4dcb",
   "metadata": {},
   "outputs": [],
   "source": []
  },
  {
   "cell_type": "markdown",
   "id": "8364d2e6-1eb5-44bc-87a2-272196b40bbf",
   "metadata": {},
   "source": [
    "<a id=\"Paso5\"></a>\n",
    "## Paso 5: Comparación Final\n",
    "\n",
    "* Genera una tabla comparativa con las métricas de rendimiento para los siguientes modelos:\n",
    "   * Regresión lineal sin escalado.\n",
    "   * Regresión lineal con escalado.\n",
    "   * Ridge (con escalado).\n",
    "   * Lasso (con escalado).\n",
    "\n",
    "* Discute los resultados, centrándote en:\n",
    "  * ¿Es necesaria la regularización en este caso?\n",
    "  * ¿Cuál es el impacto de escalar las variables antes de aplicar regularización?\n",
    "  * ¿Cuál modelo ofrece mejores resultados?"
   ]
  },
  {
   "cell_type": "code",
   "execution_count": null,
   "id": "947d7c7e-341f-42a6-a6a1-bd3ee19ee592",
   "metadata": {},
   "outputs": [],
   "source": []
  }
 ],
 "metadata": {
  "kernelspec": {
   "display_name": "Python 3 (ipykernel)",
   "language": "python",
   "name": "python3"
  },
  "language_info": {
   "codemirror_mode": {
    "name": "ipython",
    "version": 3
   },
   "file_extension": ".py",
   "mimetype": "text/x-python",
   "name": "python",
   "nbconvert_exporter": "python",
   "pygments_lexer": "ipython3",
   "version": "3.9.13"
  }
 },
 "nbformat": 4,
 "nbformat_minor": 5
}
