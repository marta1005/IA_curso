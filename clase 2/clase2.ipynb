{
 "cells": [
  {
   "cell_type": "markdown",
   "metadata": {},
   "source": [
    "Clase 2 (06/02/2025)"
   ]
  },
  {
   "cell_type": "markdown",
   "metadata": {},
   "source": [
    "# PANDAS"
   ]
  },
  {
   "cell_type": "code",
   "execution_count": 3,
   "metadata": {},
   "outputs": [
    {
     "name": "stdout",
     "output_type": "stream",
     "text": [
      "23\n",
      "Hola, me llamo Juan y tengo 23 años\n",
      "Hola me llamo Ana y curso Inglés, Matemáticas, Latín\n"
     ]
    }
   ],
   "source": [
    "class Persona:\n",
    "    def __init__(self, nombre, edad) -> None:\n",
    "        self.nombre = nombre\n",
    "        self.edad   = edad \n",
    "    \n",
    "    def saludar(self): \n",
    "        print(f'Hola, me llamo {self.nombre} y tengo {self.edad} años')\n",
    "\n",
    "ciudadano_1 = Persona(\"Juan\", 23)\n",
    "print(ciudadano_1.edad)\n",
    "ciudadano_1.saludar()\n",
    "\n",
    "class Estudiante(Persona):\n",
    "    def __init__(self, nombre, edad, asignaturas) -> None:\n",
    "        super().__init__(nombre, edad)\n",
    "        self.asignaturas = asignaturas\n",
    "    \n",
    "    def saludar(self): \n",
    "        asignaturas_texto = \", \".join(self.asignaturas)\n",
    "        print(f'Hola me llamo {self.nombre} y curso {asignaturas_texto}')\n",
    "\n",
    "alumni_1 = Estudiante('Ana',22,['Inglés', 'Matemáticas', 'Latín'])\n",
    "alumni_1.saludar() # método propio de la clase"
   ]
  },
  {
   "cell_type": "code",
   "execution_count": 4,
   "metadata": {},
   "outputs": [],
   "source": [
    "import numpy as np \n",
    "import matplotlib.pyplot as plt\n",
    "import time "
   ]
  },
  {
   "cell_type": "code",
   "execution_count": 6,
   "metadata": {},
   "outputs": [
    {
     "name": "stdout",
     "output_type": "stream",
     "text": [
      "Solucion buvles 954.3658653620494, calculada en 0.5528926849365234 ms\n",
      "Solucion vectorizada 954.3658653620498, calculada en 0.22077560424804688 ms\n"
     ]
    }
   ],
   "source": [
    "n = 1000\n",
    "U = np.random.rand(n)\n",
    "V = np.random.choice(range(5), n)\n",
    "\n",
    "w = 0\n",
    "t1 = time.time()\n",
    "for i in range(n):\n",
    "    w = w + U[i]*V[i]\n",
    "t2 = time.time()\n",
    "print(f'Solucion buvles {w}, calculada en {1000*(t2-t1)} ms')\n",
    "\n",
    "t1 = time.time()\n",
    "w  = np.dot(U,V)\n",
    "t2 = time.time()\n",
    "print(f'Solucion vectorizada {w}, calculada en {1000*(t2-t1)} ms') \n",
    "\n"
   ]
  },
  {
   "cell_type": "code",
   "execution_count": 8,
   "metadata": {},
   "outputs": [
    {
     "name": "stdout",
     "output_type": "stream",
     "text": [
      "Solucion calculada en  12.820959091186523\n",
      "Solucion calcualda en  0.9372234344482422\n"
     ]
    }
   ],
   "source": [
    "n = 100 \n",
    "U = np.random.randn(n)\n",
    "A = np.random.choice(range(1,5),(n,n))\n",
    "\n",
    "V = np.zeros_like(U)\n",
    "t1 = time.time()\n",
    "for i in range(n):\n",
    "    for j in range(n) : \n",
    "        V[i] = V[i] + A[i,j] * U[j]\n",
    "t2 = time.time()\n",
    "print('Solucion calculada en ', 1000*(t2-t1))\n",
    "\n",
    "t1 = time.time()\n",
    "V  = np.matmul(A,U)\n",
    "t2 = time.time()\n",
    "\n",
    "print('Solucion calcualda en ', 1000*(t2-t1))"
   ]
  },
  {
   "cell_type": "code",
   "execution_count": 11,
   "metadata": {},
   "outputs": [
    {
     "name": "stdout",
     "output_type": "stream",
     "text": [
      "6663.0377769470215 ms\n",
      "0.141143798828125 ms\n"
     ]
    }
   ],
   "source": [
    "n = 1000\n",
    "X = np.linspace(-1, 1, n)\n",
    "Y = np.zeros_like(X)\n",
    "\n",
    "for i in range(n): \n",
    "    Y[i] = np.sin(X[i])\n",
    "t2 = time.time()\n",
    "print(1000*(t2-t1), 'ms')\n",
    "\n",
    "t1 = time.time()\n",
    "Y = np.sin(X)\n",
    "t2 = time.time()\n",
    "print(1000*(t2-t1), 'ms')"
   ]
  },
  {
   "cell_type": "code",
   "execution_count": null,
   "metadata": {},
   "outputs": [],
   "source": [
    "A = np.random.choice(range(1,6),(3,4))\n",
    "for fila in A:\n",
    "    print(fila)\n",
    "\n",
    "A.T\n",
    "A@A.T   # el @ es el atajo de la multiplicacion de matrices y T es la traspuesta"
   ]
  },
  {
   "cell_type": "markdown",
   "metadata": {},
   "source": [
    "# PANDAS"
   ]
  },
  {
   "cell_type": "code",
   "execution_count": 1,
   "metadata": {},
   "outputs": [],
   "source": [
    "import pandas as pd\n",
    "import numpy as np "
   ]
  },
  {
   "cell_type": "code",
   "execution_count": 4,
   "metadata": {},
   "outputs": [
    {
     "data": {
      "text/plain": [
       "Juan     2.50\n",
       "Ana      7.80\n",
       "Jose     9.00\n",
       "Pedro    3.75\n",
       "dtype: float64"
      ]
     },
     "execution_count": 4,
     "metadata": {},
     "output_type": "execute_result"
    }
   ],
   "source": [
    "lista_1 = [1,2,3,4,5,6,7]\n",
    "lista_2 = ['piña', 'pera', 'platano', 'manzana', 'sandia', 'naranja', 'kiwi']\n",
    "\n",
    "serie_1 = pd.Series(lista_1)\n",
    "serie_2 = pd.Series(lista_2)\n",
    "\n",
    "serie_2\n",
    "dicc = {\n",
    "    'Juan':2.5, \n",
    "    'Ana': 7.8,\n",
    "    'Jose':9.0, \n",
    "    'Pedro': 3.75\n",
    "}\n",
    "\n",
    "serie_3 = pd.Series(dicc)\n",
    "serie_3"
   ]
  },
  {
   "cell_type": "code",
   "execution_count": 7,
   "metadata": {},
   "outputs": [
    {
     "name": "stdout",
     "output_type": "stream",
     "text": [
      "Index(['Juan', 'Ana', 'Jose', 'Pedro'], dtype='object')\n",
      "['piña' 'pera' 'platano' 'manzana' 'sandia' 'naranja' 'kiwi']\n",
      "float64\n",
      "(7,)\n"
     ]
    }
   ],
   "source": [
    "print(serie_3.index)\n",
    "print(serie_2.values)\n",
    "print(serie_3.dtype)\n",
    "print(serie_2.shape)"
   ]
  },
  {
   "cell_type": "code",
   "execution_count": 8,
   "metadata": {},
   "outputs": [
    {
     "name": "stdout",
     "output_type": "stream",
     "text": [
      "2.5\n"
     ]
    }
   ],
   "source": [
    "print(serie_3.loc['Juan']) # loc sirve para decirte que ahy en el indice que pones el nombre\n"
   ]
  }
 ],
 "metadata": {
  "kernelspec": {
   "display_name": "env",
   "language": "python",
   "name": "python3"
  },
  "language_info": {
   "codemirror_mode": {
    "name": "ipython",
    "version": 3
   },
   "file_extension": ".py",
   "mimetype": "text/x-python",
   "name": "python",
   "nbconvert_exporter": "python",
   "pygments_lexer": "ipython3",
   "version": "3.12.8"
  },
  "orig_nbformat": 4
 },
 "nbformat": 4,
 "nbformat_minor": 2
}
