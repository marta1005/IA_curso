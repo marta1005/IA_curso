{
 "cells": [
  {
   "cell_type": "code",
   "execution_count": 1,
   "metadata": {},
   "outputs": [],
   "source": [
    "import numpy as np\n",
    "import matplotlib.pyplot as plt\n",
    "import time"
   ]
  },
  {
   "cell_type": "markdown",
   "metadata": {},
   "source": [
    "# Introducción a la Vectorización y el Broadcasting en Python\n",
    "\n",
    "En este notebook exploraremos cómo aprovechar la **vectorización** y el **broadcasting** para realizar operaciones eficientes con arrays de NumPy.\n",
    "\n",
    "## 1. ¿Qué es la Vectorización?\n",
    "\n",
    "La **vectorización** es una técnica que permite realizar operaciones matemáticas en colecciones de datos (como arrays o listas) sin usar bucles explícitos. NumPy utiliza implementaciones optimizadas en C para aplicar estas operaciones más rápido que los bucles de Python.\n",
    "\n",
    "### Ejemplo de cálculo sin vectorización:\n",
    "\n",
    "Suma de dos vectores aleatorios (`np.random.rand`) de dimensión 1000000. Usa `time.time()` para calcular el tiempo."
   ]
  },
  {
   "cell_type": "code",
   "execution_count": 2,
   "metadata": {},
   "outputs": [
    {
     "name": "stdout",
     "output_type": "stream",
     "text": [
      "Solución bucle= 249411.17194988052 \n",
      " Tiempo bucle: 313.3049011230469 ms\n"
     ]
    }
   ],
   "source": [
    "V = np.random.rand(1000000)\n",
    "U = np.random.rand(1000000)\n",
    "\n",
    "z = 0\n",
    "t1 = time.time()\n",
    "for u,v in zip(U,V):\n",
    "    z += u*v\n",
    "t2 = time.time()\n",
    "print(f'Solución bucle= {z} \\n Tiempo bucle: {(t2-t1)*1000} ms')"
   ]
  },
  {
   "cell_type": "markdown",
   "metadata": {},
   "source": [
    "### Ejemplo de cálculo con vectorización:"
   ]
  },
  {
   "cell_type": "code",
   "execution_count": 3,
   "metadata": {},
   "outputs": [
    {
     "name": "stdout",
     "output_type": "stream",
     "text": [
      "Solución vectorizada= 249411.17194988893 \n",
      " Tiempo vectorización: 1.3003349304199219 ms\n"
     ]
    }
   ],
   "source": [
    "t1 = time.time()\n",
    "z = np.dot(U,V)\n",
    "t2 = time.time()\n",
    "print(f'Solución vectorizada= {z} \\n Tiempo vectorización: {(t2-t1)*1000} ms')"
   ]
  },
  {
   "cell_type": "markdown",
   "metadata": {},
   "source": [
    "### Otro ejemplo"
   ]
  },
  {
   "cell_type": "code",
   "execution_count": null,
   "metadata": {},
   "outputs": [],
   "source": [
    "n = 10000\n",
    "A = np.random.rand(n,n)\n",
    "V = np.random.rand(n)\n",
    "\n",
    "t1 = time.time()\n",
    "U = np.zeros(n)\n",
    "for i in range(n):\n",
    "    for j in range(n):\n",
    "        U[i] += A[i,j]*V[j]\n",
    "t2 = time.time()\n",
    "print(f'Sum(U) no vectorizada= {sum(U)} \\n Tiempo sin vectorización: {(t2-t1)*1000} ms')\n",
    "\n",
    "t1 = time.time()\n",
    "U = np.dot(A,V)\n",
    "t2 = time.time()\n",
    "print(f'Sum(U) vectorizada= {sum(U)} \\n Tiempo con vectorización: {(t2-t1)*1000} ms')"
   ]
  },
  {
   "cell_type": "markdown",
   "metadata": {},
   "source": [
    "### Uno más"
   ]
  },
  {
   "cell_type": "code",
   "execution_count": null,
   "metadata": {},
   "outputs": [],
   "source": [
    "n = 100000\n",
    "\n",
    "x = np.linspace(0,4*np.pi,n)\n",
    "\n",
    "t1 = time.time()\n",
    "y = np.zeros_like(x)\n",
    "for i in range(n):\n",
    "    y[i] = np.cos(x[i])\n",
    "t2 = time.time()\n",
    "print(f' Tiempo sin vectorización: {(t2-t1)*1000} ms')\n",
    "\n",
    "t1 = time.time()\n",
    "z = np.cos(x)\n",
    "t2 = time.time()\n",
    "print(f' Tiempo con vectorización: {(t2-t1)*1000} ms')\n",
    "\n",
    "fig,ax = plt.subplots()\n",
    "ax.plot(x,y,color = 'r')\n",
    "ax.scatter(x,z,color = 'b', s = 5)\n",
    "plt.plot()\n"
   ]
  },
  {
   "cell_type": "markdown",
   "metadata": {},
   "source": [
    "# Ejercicio: Vectoriza las siguientes operaciones "
   ]
  },
  {
   "cell_type": "markdown",
   "metadata": {},
   "source": [
    "* Vectoriza el siguiente código\n",
    "\n",
    "```python\n",
    "A = np.random.rand(2,3)\n",
    "B = np.random.rand(3,1)\n",
    "C = np.zeros_like(A)\n",
    "\n",
    "for i in range(2):\n",
    "    for j in range(3):\n",
    "        C[i,j] = A[i,j] + B[j,0]\n",
    "```"
   ]
  },
  {
   "cell_type": "code",
   "execution_count": 8,
   "metadata": {},
   "outputs": [
    {
     "name": "stdout",
     "output_type": "stream",
     "text": [
      "[[ True  True  True]\n",
      " [ True  True  True]]\n"
     ]
    }
   ],
   "source": [
    "A = np.random.rand(2,3)\n",
    "B = np.random.rand(3,1)\n",
    "C = np.zeros_like(A)\n",
    "\n",
    "for i in range(2):\n",
    "    for j in range(3):\n",
    "        C[i,j] = A[i,j] + B[j,0]\n",
    "\n",
    "D = A + B.T\n",
    "print(C==D)"
   ]
  },
  {
   "cell_type": "markdown",
   "metadata": {},
   "source": [
    "* Vectoriza el siguiente código\n",
    "\n",
    "```python\n",
    "# Definición de V (vector columna) y A (matriz)\n",
    "V = np.random.rand(5, 1)  # Vector columna de dimensión 5x1\n",
    "A = np.random.rand(5, 3)  # Matriz de dimensión 5x3\n",
    "\n",
    "n, m = A.shape\n",
    "U = np.zeros(m)\n",
    "\n",
    "for j in range(m):  # Recorremos columnas de A\n",
    "    for i in range(n):  # Recorremos filas\n",
    "        U[j] += V[i, 0] * A[i, j]\n",
    "```"
   ]
  },
  {
   "cell_type": "code",
   "execution_count": 13,
   "metadata": {},
   "outputs": [
    {
     "name": "stdout",
     "output_type": "stream",
     "text": [
      "[0.78802133 0.32836911 1.10720389]\n",
      "[[0.78802133 0.32836911 1.10720389]]\n"
     ]
    }
   ],
   "source": [
    "# Definición de V (vector columna) y A (matriz)\n",
    "V = np.random.rand(5, 1)  # Vector columna de dimensión 5x1\n",
    "A = np.random.rand(5, 3)  # Matriz de dimensión 5x3\n",
    "\n",
    "n, m = A.shape\n",
    "U = np.zeros(m)  # no respeta las dimensiones\n",
    "\n",
    "for j in range(m):  # Recorremos columnas de A\n",
    "    for i in range(n):  # Recorremos filas\n",
    "        U[j] += V[i, 0] * A[i, j]\n",
    "\n",
    "print(U)\n",
    "D = np.dot(V.T,A) # este respeta las dimensiones \n",
    "print(D)"
   ]
  },
  {
   "cell_type": "markdown",
   "metadata": {},
   "source": [
    "#  Broadcasting\n",
    "\n",
    "El **broadcasting** es una característica de NumPy que permite realizar operaciones entre arrays de diferentes formas (shapes). Cuando los tamaños no coinciden, NumPy \"expande\" los arrays más pequeños para que sean compatibles.\n",
    "\n",
    "## Reglas del Broadcasting:\n",
    " 1. Si las formas (shapes) de los arrays no coinciden, NumPy añade dimensiones extra al array más pequeño hasta que coincidan.\n",
    " 2. Si una dimensión tiene tamaño 1, NumPy \"replica\" los datos para que coincida con la dimensión más grande.\n",
    "\n",
    "### Ejemplo básico:"
   ]
  },
  {
   "cell_type": "code",
   "execution_count": null,
   "metadata": {},
   "outputs": [],
   "source": [
    "U = np.array([1,2,3,4,5])\n",
    "k = 100\n",
    "V = U+k\n",
    "print(V)\n",
    "\n",
    "U = np.reshape(U,(5,1))\n",
    "print(U) \n",
    "V = U+k\n",
    "print(V)\n",
    "\n",
    "U = np.reshape(U,(1,5))\n",
    "print(U) \n",
    "V = U+k\n",
    "print(V)\n"
   ]
  },
  {
   "cell_type": "code",
   "execution_count": null,
   "metadata": {},
   "outputs": [],
   "source": [
    "A = np.reshape(range(1,7),(2,3))\n",
    "print(A)\n",
    "print(A.shape)\n",
    "\n",
    "B = np.array([10,20,30])\n",
    "print(B)\n",
    "print(B.shape)\n",
    "C = A+B\n",
    "print(C)\n",
    "print(C.shape)\n",
    "\n",
    "B = np.array([10,20])\n",
    "print(B)\n",
    "print(B.shape)\n",
    "C = A+B\n",
    "print(C)\n",
    "print(C.shape)\n",
    "\n",
    "\"\"\"\n",
    "\n",
    "B1 = np.array([10,20,30]).reshape(1,3)\n",
    "print(B1.shape)\n",
    "\n",
    "C = A+B1\n",
    "print(C)\n",
    "print(C.shape)\n",
    "\n",
    "B2 = np.array([100,200]).reshape(2,1)\n",
    "print(B2.shape)\n",
    "\n",
    "C = A+B2\n",
    "print(C)\n",
    "print(C.shape)\n",
    "\n",
    "\"\"\""
   ]
  },
  {
   "cell_type": "markdown",
   "metadata": {},
   "source": [
    "### Ejercicio: Uso de Broadcasting para normalizar matrices\n",
    "\n",
    "Es muy habitual en aprendizaje automático que la información venga dada como una matriz de datos donde cada columnas representa una característica determinada de una muestra, siendo el número de filas el número de muestras. \n",
    "\n",
    "Muchos modelos requieren que la información de entrada esté normalizada así que va a ser habitual que tengamos que normalizar matrices usando el valor medio de cada columna. \n",
    "En el siguiente ejercicio vamos a normalizar una matriz de datos restando la media de cada columna."
   ]
  },
  {
   "cell_type": "code",
   "execution_count": null,
   "metadata": {},
   "outputs": [],
   "source": [
    "data = np.array([[1, 2, 3], [4, 5, 6], [7, 8, 9]])\n",
    "#media = np.mean(data, axis=0).reshape(1,3)  # Media por columna (forma (1,3))\n",
    "#media = data.mean(axis=0, keepdims = True)  # Media por columna (forma (1,3))\n",
    "media = np.mean(data, axis=0, keepdims= True) # Media por columna (forma (1,3))\n",
    "data_normalizada = data - media  # Broadcasting\n",
    "print(\"Datos normalizados:\")\n",
    "print(data_normalizada)"
   ]
  },
  {
   "cell_type": "markdown",
   "metadata": {},
   "source": [
    "## Ejercicios"
   ]
  },
  {
   "cell_type": "markdown",
   "metadata": {},
   "source": [
    "* Crea un array $A$ de tamaño $(2x3x4)$ (2 matrices de 3 filas y 4 columnas) de manera que el elemento $A(i,j,k)= 100*i +10*j + k$ con $i = 1,2; j= 1,2,3; k = 1,2,3,4$ "
   ]
  },
  {
   "cell_type": "code",
   "execution_count": null,
   "metadata": {},
   "outputs": [],
   "source": []
  },
  {
   "cell_type": "markdown",
   "metadata": {},
   "source": [
    "* Multiplica cada una de las dos marices de $3x4$ por la matriz:\n",
    "$$\n",
    "X = \\begin{pmatrix}\n",
    "1 & 0 & 0 & 0  \\\\\n",
    "0 & 1 & 0 & 0  \\\\\n",
    "0 & 0 & 1 & 0  \n",
    "\\end{pmatrix}\n",
    "$$\n",
    "elemento a elemento de manera que la salida tenga la misma estructuta que $A$ pero almacenando unicamente los elementos de cada una de las dos matrices donde el número de fila y el decolumna coinciden"
   ]
  },
  {
   "cell_type": "code",
   "execution_count": null,
   "metadata": {},
   "outputs": [],
   "source": []
  }
 ],
 "metadata": {
  "kernelspec": {
   "display_name": "Python 3 (ipykernel)",
   "language": "python",
   "name": "python3"
  },
  "language_info": {
   "codemirror_mode": {
    "name": "ipython",
    "version": 3
   },
   "file_extension": ".py",
   "mimetype": "text/x-python",
   "name": "python",
   "nbconvert_exporter": "python",
   "pygments_lexer": "ipython3",
   "version": "3.12.8"
  }
 },
 "nbformat": 4,
 "nbformat_minor": 4
}
