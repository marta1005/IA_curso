{
 "cells": [
  {
   "cell_type": "markdown",
   "metadata": {},
   "source": [
    "Clase del 04/02/2025"
   ]
  },
  {
   "cell_type": "markdown",
   "metadata": {},
   "source": [
    "# Variables y operadores"
   ]
  },
  {
   "cell_type": "code",
   "execution_count": 10,
   "metadata": {},
   "outputs": [
    {
     "name": "stdout",
     "output_type": "stream",
     "text": [
      "10 4 70 0.7 1 2\n",
      "Hola ¿Qué tal?\n",
      "False\n",
      "False\n",
      "5 1 123\n"
     ]
    }
   ],
   "source": [
    "a = 7\n",
    "b = 3\n",
    "c = 6\n",
    "c = a + b \n",
    "\n",
    "print(a+b, a-b, a*c, a/c, a%b, a//b)\n",
    "\n",
    "# el porcentje da el residuo de la division \n",
    "# la boble barra // da el cociente de la división \n",
    "\n",
    "# cuando se pone un + en lso strings lo que esta haciendo e screar cadenas de texto \n",
    "a = 'Hola'\n",
    "b = '¿Qué tal?'\n",
    "print(a + ' ' + b)\n",
    "\n",
    "'''\n",
    "Esta parte se va a comentar \n",
    "Hasta uqe volvamos a poenr comilals\n",
    "'''\n",
    "\n",
    "a = 4\n",
    "b = 5 \n",
    "c = a**2 + b*a\n",
    "\n",
    "# el simbolo para el ó exclusivo es ^\n",
    "print((a==b )^ (b<a))\n",
    "# el simbolo para el o es or\n",
    "print((a==b) or (b<a))\n",
    "\n",
    "a = 5.23\n",
    "print(int(a), int(True), int('123'))\n",
    "\n",
    "\n",
    "\n"
   ]
  },
  {
   "cell_type": "markdown",
   "metadata": {},
   "source": [
    "## Control de flujo"
   ]
  },
  {
   "cell_type": "markdown",
   "metadata": {},
   "source": [
    "### Condicionales y bucles"
   ]
  },
  {
   "cell_type": "code",
   "execution_count": 15,
   "metadata": {},
   "outputs": [
    {
     "name": "stdout",
     "output_type": "stream",
     "text": [
      "24  es multiplo de 3\n",
      "24  es par\n"
     ]
    }
   ],
   "source": [
    "n = 24\n",
    "if (n%3==0):\n",
    "    print(n, ' es multiplo de 3')\n",
    "    if (n%2==0): \n",
    "        print(n, ' es par')\n",
    "elif (n%3==1): \n",
    "    print(n, ' es módulo de 3')\n",
    "else : \n",
    "    print(n, ' es 2 módulo de 3')"
   ]
  },
  {
   "cell_type": "code",
   "execution_count": 18,
   "metadata": {},
   "outputs": [
    {
     "name": "stdout",
     "output_type": "stream",
     "text": [
      "1\n",
      "3\n",
      "5\n",
      "7\n",
      "9\n"
     ]
    }
   ],
   "source": [
    "for i in range(1,10,2):\n",
    "    print(i)"
   ]
  },
  {
   "cell_type": "code",
   "execution_count": null,
   "metadata": {},
   "outputs": [],
   "source": [
    "# de esta manera no llega al ultiumo numero \n",
    "for i in range(10,0,-1):\n",
    "    print(i)\n",
    "\n",
    "# si queremos que llegue al final tenemos que poenr \n",
    "for i in range(10, -1, -1): \n",
    "    print(i)"
   ]
  },
  {
   "cell_type": "code",
   "execution_count": 28,
   "metadata": {},
   "outputs": [
    {
     "name": "stdout",
     "output_type": "stream",
     "text": [
      "m-e-l-o-c-o-t-o-n-la letra 0 de melocoton es m\n",
      "la letra 1 de melocoton es e\n",
      "la letra 2 de melocoton es l\n",
      "la letra 3 de melocoton es o\n",
      "la letra 4 de melocoton es c\n",
      "la letra 5 de melocoton es o\n",
      "la letra 6 de melocoton es t\n",
      "la letra 7 de melocoton es o\n",
      "la letra 8 de melocoton es n\n"
     ]
    }
   ],
   "source": [
    "'''\n",
    "    for i in range(4, -1, -1): \n",
    "        for j in range(i) : \n",
    "            print('j=', j)\n",
    "        print('i=',i)\n",
    "'''\n",
    "\n",
    "# si no queiro que salte de linea pongo el atributo '-' y asi no salta de linea\n",
    "palabra = 'melocoton'\n",
    "for letra in palabra: \n",
    "    print(letra, end= '-')\n",
    "\n",
    "# utilizando el enumerate en un iterable me devuelve el indice en donde se encuentra la letra\n",
    "for i, letra in enumerate(palabra): \n",
    "    print(f'la letra {i} de {palabra} es {letra}')"
   ]
  },
  {
   "cell_type": "code",
   "execution_count": 35,
   "metadata": {},
   "outputs": [
    {
     "name": "stdout",
     "output_type": "stream",
     "text": [
      "1\n",
      "2\n",
      "3\n",
      "4\n",
      "5\n",
      "6\n",
      "[8, 2, 3, 4, 5, 6, 7, 8]\n",
      "['piña', 'pera', 'platano', 'melon']\n",
      "['casa', 1]\n",
      "['piña', 'pera', 'limon', 'platano', 'melon']\n"
     ]
    }
   ],
   "source": [
    "lista_1 = [1,2,3,4,5,6]\n",
    "lista_2 = ['piña', 'pera', 'platano']\n",
    "lista_3 = ['casa', 1, True]\n",
    "\n",
    "for elemento in lista_1 : \n",
    "    print(elemento)\n",
    "\n",
    "lista_1 = lista_1 + [7,8]\n",
    "lista_1[0] = lista_1[0] + 7\n",
    "print(lista_1)\n",
    "\n",
    "lista_2.append('melon')\n",
    "print(lista_2)\n",
    "\n",
    "# para eliminar algun elemento de la lista añadimos .pop() y te elimina el ultimo item de la lista\n",
    "lista_3.pop()\n",
    "print(lista_3)\n",
    "# para añadir en la pos 2 una palabra y no eliminar la otra hacemos: \n",
    "lista_2.insert(2,'limon')\n",
    "print(lista_2)\n",
    "\n",
    "# si yo igualo las listas, se van a copiar\n",
    "lista_4 = lista_2\n",
    "print('4: ', lista_4)\n",
    "lista_4[3] = 'sandia'\n",
    "print('4: ', lista_4)\n",
    "print('2: ', lista_2)\n",
    "\n",
    "# para que no nos pase esto usamos .copy() y unicamente copiamos el contenido \n",
    "lista_4 = lista_2.copy()\n",
    "print('4: ', lista_4)\n",
    "lista_4[3] = 'sandia'\n",
    "print('4: ', lista_4)\n",
    "print('2: ', lista_2)"
   ]
  },
  {
   "cell_type": "markdown",
   "metadata": {},
   "source": [
    "### Comprensión de listas"
   ]
  },
  {
   "cell_type": "code",
   "execution_count": 39,
   "metadata": {},
   "outputs": [
    {
     "name": "stdout",
     "output_type": "stream",
     "text": [
      "[4, 16, 36, 64, 100]\n",
      "[0, 4, 0, 16, 0, 36, 0, 64, 0, 100]\n"
     ]
    }
   ],
   "source": [
    "cuadrado = []\n",
    "for i in range(1,10): \n",
    "    if(i%2==0): \n",
    "        cuadrado.append(i**2)\n",
    "\n",
    "cuadrado = [i**2 for i in range(1,11) if (i%2==0)]\n",
    "print(cuadrado)\n",
    "\n",
    "cuadrado = [i**2 if(i%2==0) else 0 for i in range(1,11)]\n",
    "print(cuadrado)"
   ]
  },
  {
   "cell_type": "code",
   "execution_count": 41,
   "metadata": {},
   "outputs": [
    {
     "name": "stdout",
     "output_type": "stream",
     "text": [
      "[1, 2, 3]\n",
      "[4, 5, 6]\n",
      "[7, 8, 9]\n",
      "[1, 2, 3]\n",
      "[11, 12, 13]\n",
      "[21, 22, 23]\n"
     ]
    }
   ],
   "source": [
    "A = [[1,2,3], [4,5,6], [7,8,9]]\n",
    "for fila in A: \n",
    "    print(fila) \n",
    "\n",
    "M = [[10*i+j+1 for j in range(3)] for i in range(3)]\n",
    "for fila in M:\n",
    "    print(fila)"
   ]
  },
  {
   "cell_type": "markdown",
   "metadata": {},
   "source": [
    "### Funciones"
   ]
  },
  {
   "cell_type": "code",
   "execution_count": 42,
   "metadata": {},
   "outputs": [
    {
     "name": "stdout",
     "output_type": "stream",
     "text": [
      "12\n"
     ]
    }
   ],
   "source": [
    "def funcion(a,b): \n",
    "    c = a+b\n",
    "    return c\n",
    "\n",
    "\n",
    "print(funcion(4,8))"
   ]
  },
  {
   "cell_type": "markdown",
   "metadata": {},
   "source": [
    "## Importacion de módulos de python"
   ]
  },
  {
   "cell_type": "code",
   "execution_count": 46,
   "metadata": {},
   "outputs": [],
   "source": [
    "import numpy\n",
    "import matplotlib.pyplot as plt\n",
    "import math\n",
    "import modulo_funciones as fn"
   ]
  },
  {
   "cell_type": "code",
   "execution_count": 47,
   "metadata": {},
   "outputs": [
    {
     "name": "stdout",
     "output_type": "stream",
     "text": [
      "10\n"
     ]
    }
   ],
   "source": [
    "x = math.cos(math.pi/2)\n",
    "\n",
    "n = 4\n",
    "m = 6\n",
    "c = fn.suma(n,m)\n",
    "print(c)"
   ]
  },
  {
   "cell_type": "code",
   "execution_count": null,
   "metadata": {},
   "outputs": [],
   "source": []
  }
 ],
 "metadata": {
  "kernelspec": {
   "display_name": "env",
   "language": "python",
   "name": "python3"
  },
  "language_info": {
   "codemirror_mode": {
    "name": "ipython",
    "version": 3
   },
   "file_extension": ".py",
   "mimetype": "text/x-python",
   "name": "python",
   "nbconvert_exporter": "python",
   "pygments_lexer": "ipython3",
   "version": "3.12.8"
  },
  "orig_nbformat": 4
 },
 "nbformat": 4,
 "nbformat_minor": 2
}
